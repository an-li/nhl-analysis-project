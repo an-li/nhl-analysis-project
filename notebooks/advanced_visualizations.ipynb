{
 "cells": [
  {
   "cell_type": "code",
   "execution_count": 4,
   "metadata": {},
   "outputs": [],
   "source": [
    "import pandas as pd\n",
    "import plotly.graph_objects as go\n",
    "import seaborn as sns\n",
    "from PIL import Image\n",
    "from scipy.ndimage import gaussian_filter\n",
    "\n",
    "from ift6758.utilities.game_utilities import filter_by_team_and_season, generate_shot_map_matrix, get_goals_per_game\n",
    "from ift6758.utilities.math_utilities import subtract_and_align_matrices\n",
    "\n",
    "sns.set()"
   ]
  },
  {
   "cell_type": "code",
   "execution_count": 8,
   "metadata": {},
   "outputs": [],
   "source": [
    "plays_df = pd.read_csv(\"../ift6758/data/extracted/shot_goal_20161012_20210707.csv\")"
   ]
  },
  {
   "cell_type": "code",
   "execution_count": 9,
   "metadata": {},
   "outputs": [
    {
     "name": "stdout",
     "output_type": "stream",
     "text": [
      "Shots per game: 29.49367088607595\n",
      "Shots differential per game compared to NHL average: -0.485208209217582 (-1.6185001703207649%)\n",
      "Goals scored per game: 3.2278481012658227\n",
      "Goals scored differential per game compared to NHL average: 0.33944547544525383 (11.752013808975834%)\n"
     ]
    }
   ],
   "source": [
    "season = 20202021\n",
    "team = 'Tampa Bay Lightning'\n",
    "bin_size = 1\n",
    "\n",
    "team_df = filter_by_team_and_season(plays_df, team, season)\n",
    "\n",
    "global_matrix = generate_shot_map_matrix(plays_df, bin_size=bin_size)\n",
    "global_goals_per_game = get_goals_per_game(plays_df, season_filter=season)\n",
    "team_matrix = generate_shot_map_matrix(team_df, bin_size=bin_size)\n",
    "team_goals_per_game = get_goals_per_game(team_df, team_filter=team, season_filter=season)\n",
    "\n",
    "print(f'Shots per game: {team_matrix.sum().sum()}')\n",
    "print(\n",
    "    f'Shots differential per game compared to NHL average: {team_matrix.sum().sum() - global_matrix.sum().sum()} ({(team_matrix.sum().sum() - global_matrix.sum().sum()) / global_matrix.sum().sum() * 100}%)')\n",
    "print(f'Goals scored per game: {team_goals_per_game}')\n",
    "print(\n",
    "    f'Goals scored differential per game compared to NHL average: {team_goals_per_game - global_goals_per_game} ({(team_goals_per_game - global_goals_per_game) / global_goals_per_game * 100}%)')\n",
    "\n",
    "difference_matrix = subtract_and_align_matrices(team_matrix, global_matrix, 0.0)\n",
    "# Sort by decreasing distance from center ice so center ice appears at the bottom of the graph\n",
    "difference_matrix.sort_index(ascending=False, kind='mergesort', inplace=True)"
   ]
  },
  {
   "cell_type": "code",
   "execution_count": 10,
   "metadata": {},
   "outputs": [],
   "source": [
    "df3_smooth = gaussian_filter(difference_matrix, sigma=2, order=0)\n",
    "difference_matrix_smooth = pd.DataFrame(data=df3_smooth, index=difference_matrix.index,\n",
    "                                        columns=difference_matrix.columns)"
   ]
  },
  {
   "cell_type": "code",
   "execution_count": 11,
   "metadata": {},
   "outputs": [],
   "source": [
    "def compute_heatmap_res(season, team):\n",
    "    bin_size = 1\n",
    "\n",
    "    team_df = filter_by_team_and_season(plays_df, team, season)\n",
    "\n",
    "    global_matrix = generate_shot_map_matrix(plays_df, bin_size=bin_size)\n",
    "    global_goals_per_game = get_goals_per_game(plays_df, season_filter=season)\n",
    "    team_matrix = generate_shot_map_matrix(team_df, bin_size=bin_size)\n",
    "    team_goals_per_game = get_goals_per_game(team_df, team_filter=team, season_filter=season)\n",
    "\n",
    "    difference_matrix = subtract_and_align_matrices(team_matrix, global_matrix, 0.0)\n",
    "    # Sort by decreasing distance from center ice so center ice appears at the bottom of the graph\n",
    "    difference_matrix.sort_index(ascending=False, kind='mergesort', inplace=True)\n",
    "\n",
    "    ########\n",
    "    smooth_data = gaussian_filter(difference_matrix, sigma=2, order=0)\n",
    "    difference_matrix_smooth = pd.DataFrame(data=smooth_data, index=difference_matrix.index,\n",
    "                                            columns=difference_matrix.columns)\n",
    "\n",
    "    return difference_matrix_smooth"
   ]
  },
  {
   "cell_type": "code",
   "execution_count": null,
   "metadata": {
    "pycharm": {
     "is_executing": true
    }
   },
   "outputs": [],
   "source": [
    "team_list = plays_df['team'].unique()\n",
    "season_list = plays_df['season'].unique()\n",
    "\n",
    "team_season_dict = {}\n",
    "\n",
    "for current_season in season_list:\n",
    "    for current_team in team_list:\n",
    "        team_season_dict[str(current_team) + str(current_season)] = compute_heatmap_res(current_season, current_team)"
   ]
  },
  {
   "cell_type": "code",
   "execution_count": 12,
   "metadata": {},
   "outputs": [],
   "source": [
    "image = Image.open(\"../figures/nhl_rink_offensive.png\")\n",
    "\n",
    "\n",
    "def display_fig(season, team):\n",
    "    difference_matrix_smooth = team_season_dict[str(team) + str(season)]\n",
    "\n",
    "    fig, ax = plt.subplots()\n",
    "    im = ax.imshow(difference_matrix_smooth, extent=[-42, 42, 0, 95])\n",
    "\n",
    "    #img = mpimg.imread('../ift6758/1hockey.jpg')\n",
    "    ax.imshow(image, zorder=0, extent=[-42, 42, 0, 95], alpha=0.5)\n",
    "\n",
    "    # Rotate the tick labels and set their alignment.\n",
    "    plt.setp(ax.get_xticklabels(), rotation=45, ha=\"right\",\n",
    "             rotation_mode=\"anchor\")\n",
    "\n",
    "    fig.tight_layout()\n",
    "\n",
    "    plt.show()"
   ]
  },
  {
   "cell_type": "code",
   "execution_count": null,
   "metadata": {},
   "outputs": [],
   "source": [
    "\n",
    "from IPython.display import clear_output\n",
    "\n",
    "import ipywidgets as widgets\n",
    "import pandas as pd\n",
    "\n",
    "import matplotlib.pyplot as plt\n",
    "\n",
    "season_list = plays_df['season'].unique()\n",
    "season_list_out = widgets.Output()\n",
    "season_selection = season_list[0]\n",
    "\n",
    "###############################\n",
    "out = widgets.Output()\n",
    "###############################\n",
    "\n",
    "\n",
    "team_list = plays_df['team'].unique()\n",
    "team_list_out = widgets.Output()\n",
    "team_selection = team_list[0]\n",
    "\n",
    "################################\n",
    "\n",
    "seasons_widget = widgets.Select(\n",
    "    options=season_list,\n",
    "    value=season_list[0],\n",
    "    # rows=10,\n",
    "    description='Season:',\n",
    "    disabled=False\n",
    ")\n",
    "\n",
    "\n",
    "#display(seasons_widget, season_list_out)\n",
    "\n",
    "def on_value_change(change):\n",
    "    with out:\n",
    "        #print(change['new'])\n",
    "        season_selection = change['new']\n",
    "        clear_output(wait=True)\n",
    "        display_fig(season_selection, team_selection)\n",
    "\n",
    "\n",
    "seasons_widget.observe(on_value_change, names='value')\n",
    "\n",
    "##########\n",
    "\n",
    "\n",
    "team_widget = widgets.Select(\n",
    "    options=team_list,\n",
    "    value=team_list[0],\n",
    "    # rows=10,\n",
    "    description='Team:',\n",
    "    disabled=False\n",
    ")\n",
    "\n",
    "\n",
    "#display(team_widget, team_list_out)\n",
    "\n",
    "def on_value_change_team(change):\n",
    "    with out:\n",
    "        #print(change['new'])\n",
    "        team_selection = change['new']\n",
    "        clear_output(wait=True)\n",
    "        display_fig(season_selection, team_selection)\n",
    "\n",
    "\n",
    "team_widget.observe(on_value_change_team, names='value')\n",
    "\n",
    "widgets.HBox([widgets.VBox([seasons_widget, team_widget]), out])\n",
    "\n"
   ]
  },
  {
   "cell_type": "code",
   "execution_count": null,
   "metadata": {},
   "outputs": [],
   "source": [
    "# Add surface trace\n",
    "fig = go.Figure()\n",
    "\n",
    "matrix = compute_heatmap_res(20162017, 'Tampa Bay Lightning')\n",
    "largest_diff = max(abs(matrix.min().min()), abs(matrix.max().max()))\n",
    "\n",
    "fig.add_trace(go.Contour(z=matrix, showscale=True, connectgaps=False,\n",
    "                         colorscale=[[0, 'rgb(0,0,255)'], [0.5, 'rgb(255,255,255)'], [1,\n",
    "                                                                                      'rgb(255,0,0)']],\n",
    "                         x=matrix.columns, y=matrix.index, zmin=-1 * largest_diff, zmax=largest_diff))\n",
    "\n",
    "# Update plot sizing\n",
    "fig.update_layout(\n",
    "    width=800,\n",
    "    height=900,\n",
    "    autosize=False,\n",
    "    margin=dict(t=100, b=0, l=0, r=0),\n",
    "\n",
    ")\n",
    "\n",
    "# Update 3D scene options\n",
    "fig.update_scenes(\n",
    "    aspectratio=dict(x=1, y=1, z=0.7),\n",
    "    aspectmode=\"manual\"\n",
    ")\n",
    "\n",
    "img = Image.open('../figures/nhl_rink_offensive.png')\n",
    "fig.add_layout_image(\n",
    "    dict(\n",
    "        source=img,\n",
    "        xref=\"paper\", yref=\"paper\",\n",
    "        x=0.5, y=0,\n",
    "        sizex=1, sizey=1,\n",
    "        xanchor=\"center\",\n",
    "        yanchor=\"bottom\",\n",
    "        opacity=0.3,\n",
    "    )\n",
    ")\n",
    "fig.show()"
   ]
  }
 ],
 "metadata": {
  "kernelspec": {
   "display_name": "Python 3 (ipykernel)",
   "language": "python",
   "name": "python3"
  },
  "language_info": {
   "codemirror_mode": {
    "name": "ipython",
    "version": 3
   },
   "file_extension": ".py",
   "mimetype": "text/x-python",
   "name": "python",
   "nbconvert_exporter": "python",
   "pygments_lexer": "ipython3",
   "version": "3.9.12"
  },
  "vscode": {
   "interpreter": {
    "hash": "6f5583cf1d9466b5c27e75c89cc6b383bed5736d6b16c51c8074d8690011a952"
   }
  }
 },
 "nbformat": 4,
 "nbformat_minor": 4
}
