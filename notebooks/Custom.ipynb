{
 "cells": [
  {
   "cell_type": "markdown",
   "metadata": {},
   "source": [
    "Custom Model"
   ]
  },
  {
   "cell_type": "markdown",
   "metadata": {},
   "source": [
    "Import"
   ]
  },
  {
   "cell_type": "code",
   "execution_count": 1,
   "metadata": {},
   "outputs": [],
   "source": [
    "import pandas as pd\n",
    "import numpy as np\n",
    "import matplotlib.pyplot as plt\n",
    "import sklearn.metrics as metrics\n",
    "\n",
    "from sklearn.linear_model import LogisticRegression\n",
    "from sklearn.model_selection import train_test_split\n",
    "from sklearn.calibration import calibration_curve, CalibrationDisplay\n",
    "\n",
    "\n",
    "import matplotlib.ticker as mtick\n",
    "import seaborn as sns\n",
    "\n",
    "import sklearn\n",
    "import imblearn\n",
    "\n",
    "\n",
    "from imblearn.under_sampling import RandomUnderSampler\n",
    "from imblearn.over_sampling import RandomOverSampler\n",
    "\n",
    "sns.set()"
   ]
  },
  {
   "cell_type": "code",
   "execution_count": 2,
   "metadata": {},
   "outputs": [
    {
     "name": "stderr",
     "output_type": "stream",
     "text": [
      "COMET WARNING: Comet has disabled auto-logging functionality as it has been imported after the following ML modules: sklearn. Metrics and hyperparameters can still be logged using comet_ml.log_metrics() and comet_ml.log_parameters()\n",
      "COMET WARNING: As you are running in a Jupyter environment, you will need to call `experiment.end()` when finished to ensure all metrics and code are logged before exiting.\n",
      "COMET INFO: Experiment is live on comet.com https://www.comet.com/ift6758a-a22-g3-projet/custom-models/28eafd41902c499197a04be478ee260a\n",
      "\n"
     ]
    }
   ],
   "source": [
    "# Import comet_ml at the top of your file\n",
    "from comet_ml import Experiment\n",
    "\n",
    "# Create an experiment with your api key\n",
    "experiment = Experiment(\n",
    "    api_key=\"UGYDiy3HENiE7Y3dqoMAVIgG2\",\n",
    "    project_name=\"custom-models\",\n",
    "    workspace=\"ift6758a-a22-g3-projet\",\n",
    ")\n",
    "\n",
    "# Report multiple hyperparameters using a dictionary:\n",
    "hyper_params = {\n",
    "    \"learning_rate\": 0.5,\n",
    "    \"batch_size\": 50,\n",
    "    \"num_epochs\": 10,\n",
    "}\n",
    "experiment.log_parameters(hyper_params)\n"
   ]
  },
  {
   "cell_type": "code",
   "execution_count": 38,
   "metadata": {},
   "outputs": [
    {
     "name": "stderr",
     "output_type": "stream",
     "text": [
      "C:\\Users\\Bei Ning\\AppData\\Local\\Temp\\ipykernel_8744\\1794156082.py:12: SettingWithCopyWarning: \n",
      "A value is trying to be set on a copy of a slice from a DataFrame.\n",
      "Try using .loc[row_indexer,col_indexer] = value instead\n",
      "\n",
      "See the caveats in the documentation: https://pandas.pydata.org/pandas-docs/stable/user_guide/indexing.html#returning-a-view-versus-a-copy\n",
      "  df_filtered['emptyNet'] = df_filtered['emptyNet'].fillna(0)\n",
      "C:\\Users\\Bei Ning\\AppData\\Local\\Temp\\ipykernel_8744\\1794156082.py:13: SettingWithCopyWarning: \n",
      "A value is trying to be set on a copy of a slice from a DataFrame.\n",
      "Try using .loc[row_indexer,col_indexer] = value instead\n",
      "\n",
      "See the caveats in the documentation: https://pandas.pydata.org/pandas-docs/stable/user_guide/indexing.html#returning-a-view-versus-a-copy\n",
      "  df_filtered['strength'] = df_filtered['strength'].fillna('Even')\n"
     ]
    },
    {
     "data": {
      "text/html": [
       "<div>\n",
       "<style scoped>\n",
       "    .dataframe tbody tr th:only-of-type {\n",
       "        vertical-align: middle;\n",
       "    }\n",
       "\n",
       "    .dataframe tbody tr th {\n",
       "        vertical-align: top;\n",
       "    }\n",
       "\n",
       "    .dataframe thead th {\n",
       "        text-align: right;\n",
       "    }\n",
       "</style>\n",
       "<table border=\"1\" class=\"dataframe\">\n",
       "  <thead>\n",
       "    <tr style=\"text-align: right;\">\n",
       "      <th></th>\n",
       "      <th>speedOfChangeOfAngle</th>\n",
       "      <th>speed</th>\n",
       "      <th>changeOfAngleFromPrev</th>\n",
       "      <th>rebound</th>\n",
       "      <th>distanceFromPrev</th>\n",
       "      <th>secondsSincePrev</th>\n",
       "      <th>prevAngleWithGoal</th>\n",
       "      <th>prevY</th>\n",
       "      <th>prevX</th>\n",
       "      <th>prevEvent</th>\n",
       "      <th>prevSecondsSinceStart</th>\n",
       "      <th>angleWithGoal</th>\n",
       "      <th>distanceToGoal</th>\n",
       "      <th>x</th>\n",
       "      <th>y</th>\n",
       "      <th>emptyNet</th>\n",
       "      <th>strength</th>\n",
       "      <th>secondsSinceStart</th>\n",
       "      <th>shotType</th>\n",
       "      <th>isGoal</th>\n",
       "    </tr>\n",
       "  </thead>\n",
       "  <tbody>\n",
       "    <tr>\n",
       "      <th>0</th>\n",
       "      <td>0.0</td>\n",
       "      <td>14.025066</td>\n",
       "      <td>0.0</td>\n",
       "      <td>False</td>\n",
       "      <td>154.275727</td>\n",
       "      <td>11.0</td>\n",
       "      <td>98.365886</td>\n",
       "      <td>-34.0</td>\n",
       "      <td>94.0</td>\n",
       "      <td>Hit</td>\n",
       "      <td>40.0</td>\n",
       "      <td>10.00798</td>\n",
       "      <td>34.525353</td>\n",
       "      <td>-55.0</td>\n",
       "      <td>6.0</td>\n",
       "      <td>0.0</td>\n",
       "      <td>Even</td>\n",
       "      <td>51</td>\n",
       "      <td>Wrist Shot</td>\n",
       "      <td>0.0</td>\n",
       "    </tr>\n",
       "  </tbody>\n",
       "</table>\n",
       "</div>"
      ],
      "text/plain": [
       "   speedOfChangeOfAngle      speed  changeOfAngleFromPrev  rebound  \\\n",
       "0                   0.0  14.025066                    0.0    False   \n",
       "\n",
       "   distanceFromPrev  secondsSincePrev  prevAngleWithGoal  prevY  prevX  \\\n",
       "0        154.275727              11.0          98.365886  -34.0   94.0   \n",
       "\n",
       "  prevEvent  prevSecondsSinceStart  angleWithGoal  distanceToGoal     x    y  \\\n",
       "0       Hit                   40.0       10.00798       34.525353 -55.0  6.0   \n",
       "\n",
       "   emptyNet strength  secondsSinceStart    shotType  isGoal  \n",
       "0       0.0     Even                 51  Wrist Shot     0.0  "
      ]
     },
     "execution_count": 38,
     "metadata": {},
     "output_type": "execute_result"
    }
   ],
   "source": [
    "df = pd.read_csv('../ift6758/data/extracted/shot_goal_20151007_20210707.csv')\n",
    "\n",
    "df_dropped = df[(df['season'].isin([20152016, 20162017, 20172018, 20182019])) & (df['gameType'] == 'R') & (\n",
    "            df['periodType'] != 'SHOOTOUT')]\n",
    "\n",
    "df_filtered = df_dropped[['speedOfChangeOfAngle', 'speed', 'changeOfAngleFromPrev', 'rebound', 'distanceFromPrev'\n",
    "                          , 'secondsSincePrev', 'prevAngleWithGoal', 'prevY', 'prevX', 'prevEvent', 'prevSecondsSinceStart',\n",
    "                          'angleWithGoal', 'distanceToGoal', 'x', 'y', 'emptyNet', 'strength', 'secondsSinceStart', 'shotType', 'isGoal']]\n",
    "\n",
    "columns_count = len(df_filtered.columns) - 1\n",
    "\n",
    "df_filtered['emptyNet'] = df_filtered['emptyNet'].fillna(0)\n",
    "df_filtered['strength'] = df_filtered['strength'].fillna('Even')\n",
    "df_filtered = df_filtered.dropna()\n",
    "\n",
    "df_filtered.head(1)\n",
    "\n"
   ]
  },
  {
   "cell_type": "code",
   "execution_count": 39,
   "metadata": {},
   "outputs": [
    {
     "data": {
      "text/plain": [
       "array(['Even', 'Power Play', 'Short Handed'], dtype=object)"
      ]
     },
     "execution_count": 39,
     "metadata": {},
     "output_type": "execute_result"
    }
   ],
   "source": [
    "df_filtered['strength'].unique()"
   ]
  },
  {
   "cell_type": "code",
   "execution_count": 40,
   "metadata": {},
   "outputs": [
    {
     "data": {
      "text/plain": [
       "speedOfChangeOfAngle     0\n",
       "speed                    0\n",
       "changeOfAngleFromPrev    0\n",
       "rebound                  0\n",
       "distanceFromPrev         0\n",
       "secondsSincePrev         0\n",
       "prevAngleWithGoal        0\n",
       "prevY                    0\n",
       "prevX                    0\n",
       "prevEvent                0\n",
       "prevSecondsSinceStart    0\n",
       "angleWithGoal            0\n",
       "distanceToGoal           0\n",
       "x                        0\n",
       "y                        0\n",
       "emptyNet                 0\n",
       "strength                 0\n",
       "secondsSinceStart        0\n",
       "shotType                 0\n",
       "isGoal                   0\n",
       "dtype: int64"
      ]
     },
     "execution_count": 40,
     "metadata": {},
     "output_type": "execute_result"
    }
   ],
   "source": [
    "df_filtered.isna().sum()"
   ]
  },
  {
   "cell_type": "code",
   "execution_count": 41,
   "metadata": {},
   "outputs": [],
   "source": [
    "dummy_object = pd.get_dummies(df_filtered[['strength', 'shotType', 'prevEvent']])\n",
    "df_filtered = df_filtered.merge(dummy_object, left_index=True, right_index=True)\n",
    "df_filtered = df_filtered.drop(labels = ['strength', 'shotType', 'prevEvent'], axis = 1)\n",
    "\n"
   ]
  },
  {
   "cell_type": "code",
   "execution_count": 42,
   "metadata": {},
   "outputs": [],
   "source": [
    "columns_count = len(df_filtered.columns)"
   ]
  },
  {
   "cell_type": "markdown",
   "metadata": {},
   "source": [
    "Split Train & Validation Dataset"
   ]
  },
  {
   "cell_type": "code",
   "execution_count": 43,
   "metadata": {},
   "outputs": [
    {
     "name": "stdout",
     "output_type": "stream",
     "text": [
      "(206814, 36)\n",
      "(101864, 36)\n"
     ]
    }
   ],
   "source": [
    "train, test = train_test_split(df_filtered, test_size=0.33, random_state=42)\n",
    "print(train.shape)\n",
    "print(test.shape)"
   ]
  },
  {
   "cell_type": "code",
   "execution_count": 52,
   "metadata": {},
   "outputs": [],
   "source": [
    "x_train = train[['speedOfChangeOfAngle', 'speed', 'changeOfAngleFromPrev', 'rebound',\n",
    "       'distanceFromPrev', 'secondsSincePrev', 'prevAngleWithGoal', 'prevY',\n",
    "       'prevX', 'prevSecondsSinceStart', 'angleWithGoal', 'distanceToGoal',\n",
    "       'x', 'y', 'emptyNet', 'secondsSinceStart', 'isGoal', 'strength_Even',\n",
    "       'strength_Power Play', 'strength_Short Handed', 'shotType_Backhand',\n",
    "       'shotType_Deflected', 'shotType_Slap Shot', 'shotType_Snap Shot',\n",
    "       'shotType_Tip-In', 'shotType_Wrap-around', 'shotType_Wrist Shot',\n",
    "       'prevEvent_Blocked Shot', 'prevEvent_Faceoff', 'prevEvent_Giveaway',\n",
    "       'prevEvent_Goal', 'prevEvent_Hit', 'prevEvent_Missed Shot',\n",
    "       'prevEvent_Penalty', 'prevEvent_Shot', 'prevEvent_Takeaway']]#.to_numpy().reshape(-1, columns_count)\n",
    "\n",
    "y_train = train['isGoal']#.to_numpy()\n",
    "\n",
    "x_train, y_train = RandomUnderSampler().fit_resample(x_train, y_train)\n",
    "\n",
    "x_test = test[['speedOfChangeOfAngle', 'speed', 'changeOfAngleFromPrev', 'rebound',\n",
    "       'distanceFromPrev', 'secondsSincePrev', 'prevAngleWithGoal', 'prevY',\n",
    "       'prevX', 'prevSecondsSinceStart', 'angleWithGoal', 'distanceToGoal',\n",
    "       'x', 'y', 'emptyNet', 'secondsSinceStart', 'isGoal', 'strength_Even',\n",
    "       'strength_Power Play', 'strength_Short Handed', 'shotType_Backhand',\n",
    "       'shotType_Deflected', 'shotType_Slap Shot', 'shotType_Snap Shot',\n",
    "       'shotType_Tip-In', 'shotType_Wrap-around', 'shotType_Wrist Shot',\n",
    "       'prevEvent_Blocked Shot', 'prevEvent_Faceoff', 'prevEvent_Giveaway',\n",
    "       'prevEvent_Goal', 'prevEvent_Hit', 'prevEvent_Missed Shot',\n",
    "       'prevEvent_Penalty', 'prevEvent_Shot', 'prevEvent_Takeaway']]#.to_numpy().reshape(-1, columns_count)\n",
    "\n",
    "y_test = test['isGoal']#.to_numpy()"
   ]
  },
  {
   "cell_type": "code",
   "execution_count": 70,
   "metadata": {},
   "outputs": [
    {
     "name": "stdout",
     "output_type": "stream",
     "text": [
      "(38114, 36)\n",
      "(38114,)\n",
      "(101864, 36)\n",
      "(101864,)\n"
     ]
    }
   ],
   "source": [
    "print(x_train.shape)\n",
    "print(y_train.shape)\n",
    "print(x_test.shape)\n",
    "print(y_test.shape)"
   ]
  },
  {
   "cell_type": "code",
   "execution_count": 133,
   "metadata": {},
   "outputs": [],
   "source": [
    "import torch\n",
    "import torch.nn as nn\n",
    "import torch.nn.functional as F\n",
    "\n",
    "class Net(nn.Module):\n",
    "    \n",
    "    def __init__(self):\n",
    "        super(Net, self).__init__()\n",
    "        self.fc1 = nn.Linear(36, 270)\n",
    "        self.fc2 = nn.Linear(270, 2)\n",
    "        \n",
    "    def forward(self, x):\n",
    "        x = self.fc1(x)\n",
    "        x = F.dropout(x, p=0.1)\n",
    "        x = F.relu(x)\n",
    "        x = self.fc2(x)\n",
    "        x = F.sigmoid(x)\n",
    "        \n",
    "        return x\n",
    "    \n",
    "net = Net()"
   ]
  },
  {
   "cell_type": "code",
   "execution_count": 134,
   "metadata": {},
   "outputs": [],
   "source": [
    "batch_size = hyper_params[\"batch_size\"]\n",
    "num_epochs = hyper_params[\"num_epochs\"]\n",
    "learning_rate = hyper_params[\"learning_rate\"]\n",
    "batch_no = len(x_train) // batch_size"
   ]
  },
  {
   "cell_type": "code",
   "execution_count": 135,
   "metadata": {},
   "outputs": [],
   "source": [
    "criterion = nn.CrossEntropyLoss()\n",
    "#criterion = nn.BCELoss()\n",
    "optimizer = torch.optim.Adam(net.parameters(), lr=learning_rate)"
   ]
  },
  {
   "cell_type": "code",
   "execution_count": 106,
   "metadata": {},
   "outputs": [
    {
     "data": {
      "text/html": [
       "<div>\n",
       "<style scoped>\n",
       "    .dataframe tbody tr th:only-of-type {\n",
       "        vertical-align: middle;\n",
       "    }\n",
       "\n",
       "    .dataframe tbody tr th {\n",
       "        vertical-align: top;\n",
       "    }\n",
       "\n",
       "    .dataframe thead th {\n",
       "        text-align: right;\n",
       "    }\n",
       "</style>\n",
       "<table border=\"1\" class=\"dataframe\">\n",
       "  <thead>\n",
       "    <tr style=\"text-align: right;\">\n",
       "      <th></th>\n",
       "      <th>speedOfChangeOfAngle</th>\n",
       "      <th>speed</th>\n",
       "      <th>changeOfAngleFromPrev</th>\n",
       "      <th>rebound</th>\n",
       "      <th>distanceFromPrev</th>\n",
       "      <th>secondsSincePrev</th>\n",
       "      <th>prevAngleWithGoal</th>\n",
       "      <th>prevY</th>\n",
       "      <th>prevX</th>\n",
       "      <th>prevSecondsSinceStart</th>\n",
       "      <th>...</th>\n",
       "      <th>shotType_Wrist Shot</th>\n",
       "      <th>prevEvent_Blocked Shot</th>\n",
       "      <th>prevEvent_Faceoff</th>\n",
       "      <th>prevEvent_Giveaway</th>\n",
       "      <th>prevEvent_Goal</th>\n",
       "      <th>prevEvent_Hit</th>\n",
       "      <th>prevEvent_Missed Shot</th>\n",
       "      <th>prevEvent_Penalty</th>\n",
       "      <th>prevEvent_Shot</th>\n",
       "      <th>prevEvent_Takeaway</th>\n",
       "    </tr>\n",
       "  </thead>\n",
       "  <tbody>\n",
       "    <tr>\n",
       "      <th>2518</th>\n",
       "      <td>0.0</td>\n",
       "      <td>9.402127</td>\n",
       "      <td>0.0</td>\n",
       "      <td>False</td>\n",
       "      <td>47.010637</td>\n",
       "      <td>5.0</td>\n",
       "      <td>3.990913</td>\n",
       "      <td>-3.0</td>\n",
       "      <td>46.0</td>\n",
       "      <td>2252.0</td>\n",
       "      <td>...</td>\n",
       "      <td>0</td>\n",
       "      <td>0</td>\n",
       "      <td>0</td>\n",
       "      <td>0</td>\n",
       "      <td>0</td>\n",
       "      <td>0</td>\n",
       "      <td>0</td>\n",
       "      <td>0</td>\n",
       "      <td>1</td>\n",
       "      <td>0</td>\n",
       "    </tr>\n",
       "  </tbody>\n",
       "</table>\n",
       "<p>1 rows × 36 columns</p>\n",
       "</div>"
      ],
      "text/plain": [
       "      speedOfChangeOfAngle     speed  changeOfAngleFromPrev  rebound  \\\n",
       "2518                   0.0  9.402127                    0.0    False   \n",
       "\n",
       "      distanceFromPrev  secondsSincePrev  prevAngleWithGoal  prevY  prevX  \\\n",
       "2518         47.010637               5.0           3.990913   -3.0   46.0   \n",
       "\n",
       "      prevSecondsSinceStart  ...  shotType_Wrist Shot  prevEvent_Blocked Shot  \\\n",
       "2518                 2252.0  ...                    0                       0   \n",
       "\n",
       "      prevEvent_Faceoff  prevEvent_Giveaway  prevEvent_Goal  prevEvent_Hit  \\\n",
       "2518                  0                   0               0              0   \n",
       "\n",
       "      prevEvent_Missed Shot  prevEvent_Penalty  prevEvent_Shot  \\\n",
       "2518                      0                  0               1   \n",
       "\n",
       "      prevEvent_Takeaway  \n",
       "2518                   0  \n",
       "\n",
       "[1 rows x 36 columns]"
      ]
     },
     "execution_count": 106,
     "metadata": {},
     "output_type": "execute_result"
    }
   ],
   "source": [
    "x_train.head(1)"
   ]
  },
  {
   "cell_type": "code",
   "execution_count": 136,
   "metadata": {},
   "outputs": [],
   "source": [
    "x_train_t = torch.Tensor(x_train.values.astype(float))\n",
    "y_train_t = torch.tensor(y_train.values, dtype = torch.int64)"
   ]
  },
  {
   "cell_type": "code",
   "execution_count": 137,
   "metadata": {},
   "outputs": [],
   "source": [
    "x_test_t = torch.Tensor(x_test.values.astype(float))\n",
    "y_test_t = torch.tensor(y_test.values, dtype = torch.int64)"
   ]
  },
  {
   "cell_type": "code",
   "execution_count": 95,
   "metadata": {},
   "outputs": [
    {
     "data": {
      "text/plain": [
       "tensor([0, 0, 0,  ..., 0, 0, 1])"
      ]
     },
     "execution_count": 95,
     "metadata": {},
     "output_type": "execute_result"
    }
   ],
   "source": [
    "y_train_t"
   ]
  },
  {
   "cell_type": "code",
   "execution_count": 138,
   "metadata": {},
   "outputs": [
    {
     "name": "stdout",
     "output_type": "stream",
     "text": [
      "Epoch 1\n",
      "Epoch 6\n"
     ]
    }
   ],
   "source": [
    "from sklearn.utils import shuffle\n",
    "from torch.autograd import Variable\n",
    "\n",
    "for epoch in range(num_epochs):\n",
    "    if epoch % 5 == 0:\n",
    "        print('Epoch {}'.format(epoch+1))\n",
    "    x_train_t, y_train_t = shuffle(x_train_t, y_train_t)\n",
    "    # Mini batch learning\n",
    "    for i in range(batch_no):\n",
    "        start = i * batch_size\n",
    "        end = start + batch_size\n",
    "        x_var = Variable(torch.FloatTensor(x_train_t[start:end]))\n",
    "        y_var = Variable(torch.LongTensor(y_train_t[start:end]))\n",
    "        # Forward + Backward + Optimize\n",
    "        optimizer.zero_grad()\n",
    "        ypred_var = net(x_var)\n",
    "        loss =criterion(ypred_var, y_var)\n",
    "        loss.backward()\n",
    "        optimizer.step()"
   ]
  },
  {
   "cell_type": "code",
   "execution_count": 139,
   "metadata": {},
   "outputs": [
    {
     "name": "stdout",
     "output_type": "stream",
     "text": [
      "Num Right 92654\n",
      "Accuracy 0.91\n"
     ]
    }
   ],
   "source": [
    "# Evaluate the model\n",
    "test_var = Variable(torch.FloatTensor(x_test_t), requires_grad=True)\n",
    "with torch.no_grad():\n",
    "    result = net(test_var)\n",
    "values = torch.round(result[:, 0])\n",
    "\n",
    "num_right = np.sum(values.data.numpy().astype(int) == y_test)\n",
    "print('Num Right', num_right)\n",
    "print('Accuracy {:.2f}'.format(num_right / len(y_test_t)))"
   ]
  },
  {
   "cell_type": "code",
   "execution_count": 119,
   "metadata": {},
   "outputs": [
    {
     "data": {
      "text/plain": [
       "tensor([0, 0, 1,  ..., 1, 0, 0])"
      ]
     },
     "execution_count": 119,
     "metadata": {},
     "output_type": "execute_result"
    }
   ],
   "source": [
    "y_test_t"
   ]
  },
  {
   "cell_type": "code",
   "execution_count": 125,
   "metadata": {},
   "outputs": [
    {
     "data": {
      "text/plain": [
       "array([0, 0, 0, ..., 0, 0, 0])"
      ]
     },
     "execution_count": 125,
     "metadata": {},
     "output_type": "execute_result"
    }
   ],
   "source": [
    "values.data.numpy().astype(int)"
   ]
  },
  {
   "cell_type": "code",
   "execution_count": 120,
   "metadata": {},
   "outputs": [
    {
     "data": {
      "text/plain": [
       "tensor([0., 0., 0.,  ..., 0., 0., 0.])"
      ]
     },
     "execution_count": 120,
     "metadata": {},
     "output_type": "execute_result"
    }
   ],
   "source": [
    "\n",
    "torch.round(result[:, 0])"
   ]
  },
  {
   "cell_type": "code",
   "execution_count": 112,
   "metadata": {},
   "outputs": [
    {
     "data": {
      "text/plain": [
       "tensor(3580.)"
      ]
     },
     "execution_count": 112,
     "metadata": {},
     "output_type": "execute_result"
    }
   ],
   "source": []
  },
  {
   "cell_type": "code",
   "execution_count": 100,
   "metadata": {},
   "outputs": [
    {
     "name": "stdout",
     "output_type": "stream",
     "text": [
      "9210.0\n",
      "0.0\n"
     ]
    }
   ],
   "source": [
    "print(np.sum(y_test))\n",
    "print(torch.sum(result[:, 1]).item())"
   ]
  },
  {
   "cell_type": "code",
   "execution_count": 155,
   "metadata": {},
   "outputs": [
    {
     "name": "stderr",
     "output_type": "stream",
     "text": [
      "C:\\Users\\Bei Ning\\AppData\\Local\\Temp\\ipykernel_8744\\1273245195.py:5: UserWarning: To copy construct from a tensor, it is recommended to use sourceTensor.clone().detach() or sourceTensor.clone().detach().requires_grad_(True), rather than torch.tensor(sourceTensor).\n",
      "  pred_m = torch.tensor(result[:, 1]).to(torch.int)\n"
     ]
    },
    {
     "data": {
      "text/plain": [
       "tensor([[    0,     0],\n",
       "        [92654,  9210]])"
      ]
     },
     "execution_count": 155,
     "metadata": {},
     "output_type": "execute_result"
    }
   ],
   "source": [
    "from torchmetrics import ConfusionMatrix\n",
    "from torchmetrics.classification import BinaryF1Score\n",
    "\n",
    "target_m = torch.tensor(y_test.to_numpy()).to(torch.int)\n",
    "pred_m = torch.tensor(result[:, 1]).to(torch.int)\n",
    "\n",
    "confmat = ConfusionMatrix(num_classes=2)\n",
    "confmat(target_m, pred_m)"
   ]
  },
  {
   "cell_type": "code",
   "execution_count": 156,
   "metadata": {},
   "outputs": [
    {
     "name": "stdout",
     "output_type": "stream",
     "text": [
      "F1\n",
      "0.1658353954553604\n"
     ]
    }
   ],
   "source": [
    "metric = BinaryF1Score()\n",
    "print('F1')\n",
    "print(metric(pred_m, target_m).item())"
   ]
  }
 ],
 "metadata": {
  "kernelspec": {
   "display_name": "Python 3.9.12 ('base')",
   "language": "python",
   "name": "python3"
  },
  "language_info": {
   "codemirror_mode": {
    "name": "ipython",
    "version": 3
   },
   "file_extension": ".py",
   "mimetype": "text/x-python",
   "name": "python",
   "nbconvert_exporter": "python",
   "pygments_lexer": "ipython3",
   "version": "3.9.12"
  },
  "orig_nbformat": 4,
  "vscode": {
   "interpreter": {
    "hash": "6f5583cf1d9466b5c27e75c89cc6b383bed5736d6b16c51c8074d8690011a952"
   }
  }
 },
 "nbformat": 4,
 "nbformat_minor": 2
}
