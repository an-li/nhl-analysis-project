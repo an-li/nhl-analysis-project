{
 "cells": [
  {
   "cell_type": "markdown",
   "metadata": {},
   "source": [
    "# Data Exploration:"
   ]
  },
  {
   "cell_type": "markdown",
   "metadata": {},
   "source": [
    "### Import"
   ]
  },
  {
   "cell_type": "code",
   "execution_count": 1,
   "metadata": {},
   "outputs": [],
   "source": [
    "from IPython.display import display\n",
    "from IPython.display import clear_output\n",
    "\n",
    "import ipywidgets as widgets\n",
    "\n",
    "import pandas as pd\n",
    "\n",
    "import matplotlib.pyplot as plt\n",
    "import matplotlib.image as mpimg\n",
    "import matplotlib.patches as patches\n",
    "\n",
    "img = mpimg.imread('../figures/nhl_rink.png') # Load the given rink image\n"
   ]
  },
  {
   "cell_type": "markdown",
   "metadata": {},
   "source": [
    "### Loading Extracted Dataset"
   ]
  },
  {
   "cell_type": "code",
   "execution_count": 2,
   "metadata": {},
   "outputs": [],
   "source": [
    "df = pd.read_csv('../ift6758/data/extracted/all_events_20151007_20210707.csv')"
   ]
  },
  {
   "cell_type": "markdown",
   "metadata": {},
   "source": [
    "### Examining loaded data"
   ]
  },
  {
   "cell_type": "code",
   "execution_count": 3,
   "metadata": {},
   "outputs": [
    {
     "data": {
      "text/plain": "       gameId    season gameType              dateTime team  eventIdx  \\\n0  2015020001  20152016        R  2015-10-07T22:15:11Z  NaN         0   \n1  2015020001  20152016        R  2015-10-07T23:20:42Z  NaN         1   \n\n            event  isGoal secondaryType     description  ...  drewby scorer  \\\n0  Game Scheduled     NaN           NaN  Game Scheduled  ...     NaN    NaN   \n1    Period Ready     NaN           NaN    Period Ready  ...     NaN    NaN   \n\n  goalie  assist hitter  hittee  playerid  loser winner  blocker  \n0    NaN     NaN    NaN     NaN       NaN    NaN    NaN      NaN  \n1    NaN     NaN    NaN     NaN       NaN    NaN    NaN      NaN  \n\n[2 rows x 33 columns]",
      "text/html": "<div>\n<style scoped>\n    .dataframe tbody tr th:only-of-type {\n        vertical-align: middle;\n    }\n\n    .dataframe tbody tr th {\n        vertical-align: top;\n    }\n\n    .dataframe thead th {\n        text-align: right;\n    }\n</style>\n<table border=\"1\" class=\"dataframe\">\n  <thead>\n    <tr style=\"text-align: right;\">\n      <th></th>\n      <th>gameId</th>\n      <th>season</th>\n      <th>gameType</th>\n      <th>dateTime</th>\n      <th>team</th>\n      <th>eventIdx</th>\n      <th>event</th>\n      <th>isGoal</th>\n      <th>secondaryType</th>\n      <th>description</th>\n      <th>...</th>\n      <th>drewby</th>\n      <th>scorer</th>\n      <th>goalie</th>\n      <th>assist</th>\n      <th>hitter</th>\n      <th>hittee</th>\n      <th>playerid</th>\n      <th>loser</th>\n      <th>winner</th>\n      <th>blocker</th>\n    </tr>\n  </thead>\n  <tbody>\n    <tr>\n      <th>0</th>\n      <td>2015020001</td>\n      <td>20152016</td>\n      <td>R</td>\n      <td>2015-10-07T22:15:11Z</td>\n      <td>NaN</td>\n      <td>0</td>\n      <td>Game Scheduled</td>\n      <td>NaN</td>\n      <td>NaN</td>\n      <td>Game Scheduled</td>\n      <td>...</td>\n      <td>NaN</td>\n      <td>NaN</td>\n      <td>NaN</td>\n      <td>NaN</td>\n      <td>NaN</td>\n      <td>NaN</td>\n      <td>NaN</td>\n      <td>NaN</td>\n      <td>NaN</td>\n      <td>NaN</td>\n    </tr>\n    <tr>\n      <th>1</th>\n      <td>2015020001</td>\n      <td>20152016</td>\n      <td>R</td>\n      <td>2015-10-07T23:20:42Z</td>\n      <td>NaN</td>\n      <td>1</td>\n      <td>Period Ready</td>\n      <td>NaN</td>\n      <td>NaN</td>\n      <td>Period Ready</td>\n      <td>...</td>\n      <td>NaN</td>\n      <td>NaN</td>\n      <td>NaN</td>\n      <td>NaN</td>\n      <td>NaN</td>\n      <td>NaN</td>\n      <td>NaN</td>\n      <td>NaN</td>\n      <td>NaN</td>\n      <td>NaN</td>\n    </tr>\n  </tbody>\n</table>\n<p>2 rows × 33 columns</p>\n</div>"
     },
     "execution_count": 3,
     "metadata": {},
     "output_type": "execute_result"
    }
   ],
   "source": [
    "df.head(2)"
   ]
  },
  {
   "cell_type": "markdown",
   "metadata": {},
   "source": [
    "### Defining Widgets"
   ]
  },
  {
   "cell_type": "code",
   "execution_count": 4,
   "metadata": {},
   "outputs": [],
   "source": [
    "season_list = df['season'].unique()\n",
    "season_list_out = widgets.Output()\n",
    "\n",
    "season_selection = season_list[0]\n",
    "\n",
    "seasons_widget = widgets.Select(\n",
    "    options=season_list,\n",
    "    value=season_list[0],\n",
    "    description='Season:',\n",
    "    disabled=False\n",
    ")\n",
    "\n",
    "############################################\n",
    "\n",
    "gametype_list = df['gameType'].unique()\n",
    "gametype_list_out = widgets.Output()\n",
    "\n",
    "gametype_selection = gametype_list[0]\n",
    "\n",
    "gametype_widget = widgets.Select(\n",
    "    options=gametype_list,\n",
    "    value=gametype_list[0],\n",
    "    description='gameType:',\n",
    "    disabled=False\n",
    ")\n",
    "\n",
    "############################################\n",
    "\n",
    "f1 = df[df['season'] == season_selection]\n",
    "f2 = f1[f1['gameType'] == gametype_selection]\n",
    "game_count = len(f2['gameId'].unique())\n",
    "\n",
    "game_widget = widgets.IntSlider(\n",
    "    description='Game ID Index:',\n",
    "    min=0,\n",
    "    max=game_count\n",
    ")\n",
    "game_list_out = widgets.Output()\n",
    "game_selection = 0\n",
    "\n",
    "############################################\n",
    "\n",
    "gameId = f2.loc[[game_widget.value]]['gameId'].values[0]\n",
    "f3 = f2[f2['gameId']== gameId]\n",
    "event_count = len(f3)\n",
    "\n",
    "event_widget = widgets.IntSlider(\n",
    "    description='Event Index:',\n",
    "    min=0,\n",
    "    max=event_count\n",
    ")\n",
    "event_list_out = widgets.Output()\n",
    "event_selection = 0"
   ]
  },
  {
   "cell_type": "markdown",
   "metadata": {},
   "source": [
    "### Create event function"
   ]
  },
  {
   "cell_type": "code",
   "execution_count": 5,
   "metadata": {},
   "outputs": [],
   "source": [
    "def reset_slider():\n",
    "    game_widget.value = 0\n",
    "    event_widget.value = 0"
   ]
  },
  {
   "cell_type": "code",
   "execution_count": 6,
   "metadata": {},
   "outputs": [],
   "source": [
    "def displayResult():\n",
    "    \n",
    "    event_selection = event_widget.value\n",
    "    f1 = df[df['season'] == seasons_widget.value] # filter by season\n",
    "    f2 = f1[f1['gameType'] == gametype_widget.value] # filter by game type\n",
    "    game_count = len(f2['gameId'].unique())\n",
    "    \n",
    "    gameId = f2.iloc[[game_widget.value]]['gameId'].values[0] # filter by game ID\n",
    "    f3 = f2[f2['gameId']== gameId]\n",
    "    event_count = len(f3)\n",
    "    \n",
    "    clear_output(wait=True)\n",
    "    print(f3.iloc[[event_widget.value]]) #filter by event index\n",
    "    \n",
    "    #Display Rink image\n",
    "    \n",
    "    x = f3.iloc[[event_widget.value]]['x'].values[0]\n",
    "    y = f3.iloc[[event_widget.value]]['y'].values[0]\n",
    "\n",
    "    fig, ax = plt.subplots()\n",
    "    ax.imshow(img, extent=[-100,100,-42.5,42.5])\n",
    "    rect = patches.Rectangle((x, y), 4, 4, linewidth=1, edgecolor='b', facecolor='none')\n",
    "    ax.add_patch(rect)\n",
    "\n",
    "    plt.show() "
   ]
  },
  {
   "cell_type": "markdown",
   "metadata": {},
   "source": [
    "### Create Event"
   ]
  },
  {
   "cell_type": "code",
   "execution_count": 7,
   "metadata": {},
   "outputs": [],
   "source": [
    "def on_value_change(change):\n",
    "    with season_list_out:\n",
    "        \n",
    "        reset_slider() # reset slider for game and event slider\n",
    "        season_selection = change['new']\n",
    "        displayResult() # Display result on slider change\n",
    "\n",
    "seasons_widget.observe(on_value_change, names='value')\n",
    "\n",
    "def on_value_change_out(change):\n",
    "    with season_list_out:\n",
    "        \n",
    "        reset_slider() # reset slider for game and event slider\n",
    "        gametype_selection = change['new']\n",
    "        displayResult() # Display result on slider change\n",
    "\n",
    "gametype_widget.observe(on_value_change_out, names='value')\n",
    "\n",
    "def on_value_change_game(change):\n",
    "    with season_list_out:\n",
    "\n",
    "        game_selection = change['new']\n",
    "        displayResult() # Display result on slider change\n",
    "\n",
    "game_widget.observe(on_value_change_game, names='value')\n",
    "\n",
    "def on_value_change_event(change):\n",
    "    with season_list_out:\n",
    "        \n",
    "        event_selection = change['new']\n",
    "        displayResult() # Display result on slider change\n",
    "\n",
    "event_widget.observe(on_value_change_event, names='value')"
   ]
  },
  {
   "cell_type": "markdown",
   "metadata": {},
   "source": [
    "### Display Widgets"
   ]
  },
  {
   "cell_type": "code",
   "execution_count": 8,
   "metadata": {},
   "outputs": [
    {
     "data": {
      "text/plain": "Select(description='Season:', options=(20152016, 20162017, 20172018, 20182019, 20192020, 20202021), value=2015…",
      "application/vnd.jupyter.widget-view+json": {
       "version_major": 2,
       "version_minor": 0,
       "model_id": "b6dcfbc80eb945d0b9fae360d83b31a0"
      }
     },
     "metadata": {},
     "output_type": "display_data"
    },
    {
     "data": {
      "text/plain": "Select(description='gameType:', options=('R', 'P'), value='R')",
      "application/vnd.jupyter.widget-view+json": {
       "version_major": 2,
       "version_minor": 0,
       "model_id": "497eae37b69b41bbbf255fa8e9d08af9"
      }
     },
     "metadata": {},
     "output_type": "display_data"
    },
    {
     "data": {
      "text/plain": "IntSlider(value=0, description='Game ID Index:', max=1230)",
      "application/vnd.jupyter.widget-view+json": {
       "version_major": 2,
       "version_minor": 0,
       "model_id": "8c4e83155574472a85bcb5c8a1bbaeb9"
      }
     },
     "metadata": {},
     "output_type": "display_data"
    },
    {
     "data": {
      "text/plain": "IntSlider(value=0, description='Event Index:', max=334)",
      "application/vnd.jupyter.widget-view+json": {
       "version_major": 2,
       "version_minor": 0,
       "model_id": "10501a076f4a44959312e29807483b75"
      }
     },
     "metadata": {},
     "output_type": "display_data"
    },
    {
     "data": {
      "text/plain": "Output()",
      "application/vnd.jupyter.widget-view+json": {
       "version_major": 2,
       "version_minor": 0,
       "model_id": "9bb7799f52f943a39e47f377e02f8cef"
      }
     },
     "metadata": {},
     "output_type": "display_data"
    }
   ],
   "source": [
    "display(seasons_widget)\n",
    "display(gametype_widget)\n",
    "display(game_widget)\n",
    "display(event_widget, season_list_out)"
   ]
  }
 ],
 "metadata": {
  "kernelspec": {
   "display_name": "Python 3",
   "language": "python",
   "name": "python3"
  },
  "language_info": {
   "codemirror_mode": {
    "name": "ipython",
    "version": 3
   },
   "file_extension": ".py",
   "mimetype": "text/x-python",
   "name": "python",
   "nbconvert_exporter": "python",
   "pygments_lexer": "ipython3",
   "version": "3.8.5"
  },
  "vscode": {
   "interpreter": {
    "hash": "845038b9554acb1204039e58254f65f35f37d8c71dc650de95663d68be7ff4e4"
   }
  }
 },
 "nbformat": 4,
 "nbformat_minor": 4
}
