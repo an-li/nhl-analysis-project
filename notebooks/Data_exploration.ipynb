{
 "cells": [
  {
   "cell_type": "markdown",
   "metadata": {},
   "source": [
    "# Data Exploration:"
   ]
  },
  {
   "cell_type": "markdown",
   "metadata": {},
   "source": [
    "### Import"
   ]
  },
  {
   "cell_type": "code",
   "execution_count": 1,
   "metadata": {},
   "outputs": [],
   "source": [
    "from IPython.display import display\n",
    "from IPython.display import clear_output\n",
    "\n",
    "import ipywidgets as widgets\n",
    "\n",
    "import pandas as pd\n",
    "\n",
    "import matplotlib.pyplot as plt\n",
    "import matplotlib.image as mpimg\n",
    "import matplotlib.patches as patches\n",
    "\n",
    "img = mpimg.imread('../figures/nhl_rink.png') # Load the given rink image\n"
   ]
  },
  {
   "cell_type": "markdown",
   "metadata": {},
   "source": [
    "### Loading Extracted Dataset"
   ]
  },
  {
   "cell_type": "code",
   "execution_count": 2,
   "metadata": {},
   "outputs": [],
   "source": [
    "df = pd.read_csv('../ift6758/data/extracted/all_events_20161012_20210707.csv')"
   ]
  },
  {
   "cell_type": "markdown",
   "metadata": {},
   "source": [
    "### Examining loaded data"
   ]
  },
  {
   "cell_type": "code",
   "execution_count": 3,
   "metadata": {},
   "outputs": [
    {
     "data": {
      "text/html": [
       "<div>\n",
       "<style scoped>\n",
       "    .dataframe tbody tr th:only-of-type {\n",
       "        vertical-align: middle;\n",
       "    }\n",
       "\n",
       "    .dataframe tbody tr th {\n",
       "        vertical-align: top;\n",
       "    }\n",
       "\n",
       "    .dataframe thead th {\n",
       "        text-align: right;\n",
       "    }\n",
       "</style>\n",
       "<table border=\"1\" class=\"dataframe\">\n",
       "  <thead>\n",
       "    <tr style=\"text-align: right;\">\n",
       "      <th></th>\n",
       "      <th>gameId</th>\n",
       "      <th>season</th>\n",
       "      <th>gameType</th>\n",
       "      <th>dateTime</th>\n",
       "      <th>team</th>\n",
       "      <th>event</th>\n",
       "      <th>secondaryType</th>\n",
       "      <th>description</th>\n",
       "      <th>period</th>\n",
       "      <th>periodType</th>\n",
       "      <th>...</th>\n",
       "      <th>winner</th>\n",
       "      <th>loser</th>\n",
       "      <th>penaltyon</th>\n",
       "      <th>drewby</th>\n",
       "      <th>scorer</th>\n",
       "      <th>assist</th>\n",
       "      <th>goalie</th>\n",
       "      <th>hittee</th>\n",
       "      <th>hitter</th>\n",
       "      <th>playerid</th>\n",
       "    </tr>\n",
       "  </thead>\n",
       "  <tbody>\n",
       "    <tr>\n",
       "      <th>0</th>\n",
       "      <td>2016020001</td>\n",
       "      <td>20162017</td>\n",
       "      <td>R</td>\n",
       "      <td>2016-10-12T21:55:06Z</td>\n",
       "      <td>NaN</td>\n",
       "      <td>Game Scheduled</td>\n",
       "      <td>NaN</td>\n",
       "      <td>Game Scheduled</td>\n",
       "      <td>1</td>\n",
       "      <td>REGULAR</td>\n",
       "      <td>...</td>\n",
       "      <td>NaN</td>\n",
       "      <td>NaN</td>\n",
       "      <td>NaN</td>\n",
       "      <td>NaN</td>\n",
       "      <td>NaN</td>\n",
       "      <td>NaN</td>\n",
       "      <td>NaN</td>\n",
       "      <td>NaN</td>\n",
       "      <td>NaN</td>\n",
       "      <td>NaN</td>\n",
       "    </tr>\n",
       "    <tr>\n",
       "      <th>1</th>\n",
       "      <td>2016020002</td>\n",
       "      <td>20162017</td>\n",
       "      <td>R</td>\n",
       "      <td>2016-10-12T22:14:14Z</td>\n",
       "      <td>NaN</td>\n",
       "      <td>Game Scheduled</td>\n",
       "      <td>NaN</td>\n",
       "      <td>Game Scheduled</td>\n",
       "      <td>1</td>\n",
       "      <td>REGULAR</td>\n",
       "      <td>...</td>\n",
       "      <td>NaN</td>\n",
       "      <td>NaN</td>\n",
       "      <td>NaN</td>\n",
       "      <td>NaN</td>\n",
       "      <td>NaN</td>\n",
       "      <td>NaN</td>\n",
       "      <td>NaN</td>\n",
       "      <td>NaN</td>\n",
       "      <td>NaN</td>\n",
       "      <td>NaN</td>\n",
       "    </tr>\n",
       "  </tbody>\n",
       "</table>\n",
       "<p>2 rows × 29 columns</p>\n",
       "</div>"
      ],
      "text/plain": [
       "       gameId    season gameType              dateTime team           event  \\\n",
       "0  2016020001  20162017        R  2016-10-12T21:55:06Z  NaN  Game Scheduled   \n",
       "1  2016020002  20162017        R  2016-10-12T22:14:14Z  NaN  Game Scheduled   \n",
       "\n",
       "  secondaryType     description  period periodType  ... winner loser  \\\n",
       "0           NaN  Game Scheduled       1    REGULAR  ...    NaN   NaN   \n",
       "1           NaN  Game Scheduled       1    REGULAR  ...    NaN   NaN   \n",
       "\n",
       "  penaltyon  drewby  scorer assist  goalie hittee hitter playerid  \n",
       "0       NaN     NaN     NaN    NaN     NaN    NaN    NaN      NaN  \n",
       "1       NaN     NaN     NaN    NaN     NaN    NaN    NaN      NaN  \n",
       "\n",
       "[2 rows x 29 columns]"
      ]
     },
     "execution_count": 3,
     "metadata": {},
     "output_type": "execute_result"
    }
   ],
   "source": [
    "df.head(2)"
   ]
  },
  {
   "cell_type": "markdown",
   "metadata": {},
   "source": [
    "### Defining Widgets"
   ]
  },
  {
   "cell_type": "code",
   "execution_count": 4,
   "metadata": {},
   "outputs": [],
   "source": [
    "season_list = df['season'].unique()\n",
    "season_list_out = widgets.Output()\n",
    "\n",
    "season_selection = season_list[0]\n",
    "\n",
    "seasons_widget = widgets.Select(\n",
    "    options=season_list,\n",
    "    value=season_list[0],\n",
    "    description='Season:',\n",
    "    disabled=False\n",
    ")\n",
    "\n",
    "############################################\n",
    "\n",
    "gametype_list = df['gameType'].unique()\n",
    "gametype_list_out = widgets.Output()\n",
    "\n",
    "gametype_selection = gametype_list[0]\n",
    "\n",
    "gametype_widget = widgets.Select(\n",
    "    options=gametype_list,\n",
    "    value=gametype_list[0],\n",
    "    description='gameType:',\n",
    "    disabled=False\n",
    ")\n",
    "\n",
    "############################################\n",
    "\n",
    "f1 = df[df['season'] == season_selection]\n",
    "f2 = f1[f1['gameType'] == gametype_selection]\n",
    "game_count = len(f2['gameId'].unique())\n",
    "\n",
    "game_widget = widgets.IntSlider(\n",
    "    description='Game ID Index:',\n",
    "    min=0,\n",
    "    max=game_count\n",
    ")\n",
    "game_list_out = widgets.Output()\n",
    "game_selection = 0\n",
    "\n",
    "############################################\n",
    "\n",
    "gameId = f2.loc[[game_widget.value]]['gameId'].values[0]\n",
    "f3 = f2[f2['gameId']== gameId]\n",
    "event_count = len(f3)\n",
    "\n",
    "event_widget = widgets.IntSlider(\n",
    "    description='Event Index:',\n",
    "    min=0,\n",
    "    max=event_count\n",
    ")\n",
    "event_list_out = widgets.Output()\n",
    "event_selection = 0"
   ]
  },
  {
   "cell_type": "markdown",
   "metadata": {},
   "source": [
    "### Create event function"
   ]
  },
  {
   "cell_type": "code",
   "execution_count": 5,
   "metadata": {},
   "outputs": [],
   "source": [
    "def reset_slider():\n",
    "    game_widget.value = 0\n",
    "    event_widget.value = 0"
   ]
  },
  {
   "cell_type": "code",
   "execution_count": 6,
   "metadata": {},
   "outputs": [],
   "source": [
    "def displayResult():\n",
    "    \n",
    "    event_selection = event_widget.value\n",
    "    f1 = df[df['season'] == seasons_widget.value] # filter by season\n",
    "    f2 = f1[f1['gameType'] == gametype_widget.value] # filter by game type\n",
    "    game_count = len(f2['gameId'].unique())\n",
    "    \n",
    "    gameId = f2.iloc[[game_widget.value]]['gameId'].values[0] # filter by game ID\n",
    "    f3 = f2[f2['gameId']== gameId]\n",
    "    event_count = len(f3)\n",
    "    \n",
    "    clear_output(wait=True)\n",
    "    print(f3.iloc[[event_widget.value]]) #filter by event index\n",
    "    \n",
    "    #Display Rink image\n",
    "    \n",
    "    x = f3.iloc[[event_widget.value]]['x'].values[0]\n",
    "    y = f3.iloc[[event_widget.value]]['y'].values[0]\n",
    "\n",
    "    fig, ax = plt.subplots()\n",
    "    ax.imshow(img, extent=[-100,100,-42.5,42.5])\n",
    "    rect = patches.Rectangle((x, y), 4, 4, linewidth=1, edgecolor='b', facecolor='none')\n",
    "    ax.add_patch(rect)\n",
    "\n",
    "    plt.show() "
   ]
  },
  {
   "cell_type": "markdown",
   "metadata": {},
   "source": [
    "### Create Event"
   ]
  },
  {
   "cell_type": "code",
   "execution_count": 7,
   "metadata": {},
   "outputs": [],
   "source": [
    "def on_value_change(change):\n",
    "    with season_list_out:\n",
    "        \n",
    "        reset_slider() # reset slider for game and event slider\n",
    "        season_selection = change['new']\n",
    "        displayResult() # Display result on slider change\n",
    "\n",
    "seasons_widget.observe(on_value_change, names='value')\n",
    "\n",
    "def on_value_change_out(change):\n",
    "    with season_list_out:\n",
    "        \n",
    "        reset_slider() # reset slider for game and event slider\n",
    "        gametype_selection = change['new']\n",
    "        displayResult() # Display result on slider change\n",
    "\n",
    "gametype_widget.observe(on_value_change_out, names='value')\n",
    "\n",
    "def on_value_change_game(change):\n",
    "    with season_list_out:\n",
    "\n",
    "        game_selection = change['new']\n",
    "        displayResult() # Display result on slider change\n",
    "\n",
    "game_widget.observe(on_value_change_game, names='value')\n",
    "\n",
    "def on_value_change_event(change):\n",
    "    with season_list_out:\n",
    "        \n",
    "        event_selection = change['new']\n",
    "        displayResult() # Display result on slider change\n",
    "\n",
    "event_widget.observe(on_value_change_event, names='value')"
   ]
  },
  {
   "cell_type": "markdown",
   "metadata": {},
   "source": [
    "### Display Widgets"
   ]
  },
  {
   "cell_type": "code",
   "execution_count": 8,
   "metadata": {},
   "outputs": [
    {
     "data": {
      "application/vnd.jupyter.widget-view+json": {
       "model_id": "5bb73297be1d44598224dfc7606e6bca",
       "version_major": 2,
       "version_minor": 0
      },
      "text/plain": [
       "Select(description='Season:', options=(20162017, 20172018, 20182019, 20192020, 20202021), value=20162017)"
      ]
     },
     "metadata": {},
     "output_type": "display_data"
    },
    {
     "data": {
      "application/vnd.jupyter.widget-view+json": {
       "model_id": "4550da8bdd61497ca182c5f7cd776802",
       "version_major": 2,
       "version_minor": 0
      },
      "text/plain": [
       "Select(description='gameType:', options=('R', 'P'), value='R')"
      ]
     },
     "metadata": {},
     "output_type": "display_data"
    },
    {
     "data": {
      "application/vnd.jupyter.widget-view+json": {
       "model_id": "8ceeb600e08d46caaa0bfd2dcd5a23b5",
       "version_major": 2,
       "version_minor": 0
      },
      "text/plain": [
       "IntSlider(value=0, max=1230)"
      ]
     },
     "metadata": {},
     "output_type": "display_data"
    },
    {
     "data": {
      "application/vnd.jupyter.widget-view+json": {
       "model_id": "c4a069abf8f940e2b724c7ed21997190",
       "version_major": 2,
       "version_minor": 0
      },
      "text/plain": [
       "IntSlider(value=0, max=358)"
      ]
     },
     "metadata": {},
     "output_type": "display_data"
    },
    {
     "data": {
      "application/vnd.jupyter.widget-view+json": {
       "model_id": "bba5248bf15e4f9583ac8b47c4e93020",
       "version_major": 2,
       "version_minor": 0
      },
      "text/plain": [
       "Output()"
      ]
     },
     "metadata": {},
     "output_type": "display_data"
    }
   ],
   "source": [
    "display(seasons_widget)\n",
    "display(gametype_widget)\n",
    "display(game_widget)\n",
    "display(event_widget, season_list_out)"
   ]
  }
 ],
 "metadata": {
  "kernelspec": {
   "display_name": "Python 3",
   "language": "python",
   "name": "python3"
  },
  "language_info": {
   "codemirror_mode": {
    "name": "ipython",
    "version": 3
   },
   "file_extension": ".py",
   "mimetype": "text/x-python",
   "name": "python",
   "nbconvert_exporter": "python",
   "pygments_lexer": "ipython3",
   "version": "3.8.5"
  },
  "vscode": {
   "interpreter": {
    "hash": "845038b9554acb1204039e58254f65f35f37d8c71dc650de95663d68be7ff4e4"
   }
  }
 },
 "nbformat": 4,
 "nbformat_minor": 4
}
