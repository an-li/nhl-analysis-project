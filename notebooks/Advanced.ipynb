{
 "cells": [
  {
   "cell_type": "markdown",
   "metadata": {},
   "source": [
    "Advanced Model using XGBoost"
   ]
  },
  {
   "cell_type": "code",
   "execution_count": 9,
   "metadata": {},
   "outputs": [],
   "source": [
    "import pandas as pd\n",
    "import numpy as np\n",
    "import matplotlib.pyplot as plt\n",
    "import sklearn.metrics as metrics\n",
    "import xgboost as xgb\n",
    "\n",
    "\n",
    "from sklearn.linear_model import LogisticRegression\n",
    "from sklearn.model_selection import train_test_split\n",
    "from sklearn.metrics import roc_curve, auc, accuracy_score, confusion_matrix, mean_squared_error\n",
    "from sklearn.calibration import calibration_curve, CalibrationDisplay\n"
   ]
  },
  {
   "cell_type": "markdown",
   "metadata": {},
   "source": [
    "Load Dataset"
   ]
  },
  {
   "cell_type": "code",
   "execution_count": 10,
   "metadata": {},
   "outputs": [],
   "source": [
    "df = pd.read_csv('../ift6758/data/extracted/shot_goal_20151007_20210707.csv')\n",
    "\n",
    "df = df[\n",
    "        (df['season'].isin([20152016, 20162017, 20172018, 20182019])) & (\n",
    "                    df['gameType'] == 'R') & (\n",
    "                    df['periodType'] != 'SHOOTOUT')]\n",
    "\n",
    "df_dropped = df[df['season']!=20192020]"
   ]
  },
  {
   "cell_type": "markdown",
   "metadata": {},
   "source": [
    "Preview Data"
   ]
  },
  {
   "cell_type": "markdown",
   "metadata": {},
   "source": [
    "df_dropped.head(2)"
   ]
  },
  {
   "cell_type": "code",
   "execution_count": 11,
   "metadata": {},
   "outputs": [
    {
     "data": {
      "text/plain": [
       "Index(['gameId', 'season', 'gameType', 'dateTime', 'team', 'eventIdx', 'event',\n",
       "       'isGoal', 'shotType', 'description', 'period', 'periodType',\n",
       "       'periodTime', 'secondsSinceStart', 'strength', 'emptyNet', 'x', 'y',\n",
       "       'rinkSide', 'distanceToGoal', 'angleWithGoal', 'scorer', 'assist',\n",
       "       'goalie', 'shooter', 'prevSecondsSinceStart', 'prevEvent', 'prevX',\n",
       "       'prevY', 'prevAngleWithGoal', 'secondsSincePrev', 'distanceFromPrev',\n",
       "       'rebound', 'changeOfAngleFromPrev', 'speed', 'speedOfChangeOfAngle'],\n",
       "      dtype='object')"
      ]
     },
     "execution_count": 11,
     "metadata": {},
     "output_type": "execute_result"
    }
   ],
   "source": [
    "df_dropped.columns"
   ]
  },
  {
   "cell_type": "code",
   "execution_count": 5,
   "metadata": {},
   "outputs": [
    {
     "data": {
      "text/html": [
       "<div>\n",
       "<style scoped>\n",
       "    .dataframe tbody tr th:only-of-type {\n",
       "        vertical-align: middle;\n",
       "    }\n",
       "\n",
       "    .dataframe tbody tr th {\n",
       "        vertical-align: top;\n",
       "    }\n",
       "\n",
       "    .dataframe thead th {\n",
       "        text-align: right;\n",
       "    }\n",
       "</style>\n",
       "<table border=\"1\" class=\"dataframe\">\n",
       "  <thead>\n",
       "    <tr style=\"text-align: right;\">\n",
       "      <th></th>\n",
       "      <th>isGoal</th>\n",
       "      <th>distanceToGoal</th>\n",
       "    </tr>\n",
       "  </thead>\n",
       "  <tbody>\n",
       "    <tr>\n",
       "      <th>0</th>\n",
       "      <td>0.0</td>\n",
       "      <td>34.525353</td>\n",
       "    </tr>\n",
       "  </tbody>\n",
       "</table>\n",
       "</div>"
      ],
      "text/plain": [
       "   isGoal  distanceToGoal\n",
       "0     0.0       34.525353"
      ]
     },
     "execution_count": 5,
     "metadata": {},
     "output_type": "execute_result"
    }
   ],
   "source": [
    "df_filtered = df_dropped[['isGoal', 'distanceToGoal']]\n",
    "df_filtered.head(1)"
   ]
  },
  {
   "cell_type": "markdown",
   "metadata": {},
   "source": [
    "Split Train & Validation Dataset"
   ]
  },
  {
   "cell_type": "code",
   "execution_count": 12,
   "metadata": {},
   "outputs": [
    {
     "name": "stdout",
     "output_type": "stream",
     "text": [
      "(203357, 2)\n",
      "(100161, 2)\n"
     ]
    }
   ],
   "source": [
    "train, test = train_test_split(df_filtered, test_size=0.33, random_state=42)\n",
    "print(train.shape)\n",
    "print(test.shape)\n",
    "\n",
    "x = train['distanceToGoal'].to_numpy().reshape(-1, 1)\n",
    "\n",
    "y = train['isGoal'].to_numpy()\n",
    "\n",
    "x_test = test['distanceToGoal'].to_numpy().reshape(-1, 1)\n",
    "\n",
    "y_test = test['isGoal'].to_numpy()"
   ]
  },
  {
   "cell_type": "markdown",
   "metadata": {},
   "source": [
    "XGBoost"
   ]
  },
  {
   "cell_type": "code",
   "execution_count": 17,
   "metadata": {},
   "outputs": [
    {
     "name": "stdout",
     "output_type": "stream",
     "text": [
      "(203357,)\n",
      "(100161,)\n"
     ]
    }
   ],
   "source": [
    "print(y.shape)\n",
    "print(y_pred.shape)"
   ]
  },
  {
   "cell_type": "code",
   "execution_count": 20,
   "metadata": {},
   "outputs": [
    {
     "name": "stdout",
     "output_type": "stream",
     "text": [
      "0.301649942377494\n",
      "0.30461550702899665\n",
      "[[184833      4]\n",
      " [ 18500     20]]\n"
     ]
    }
   ],
   "source": [
    "#xgb_model = xgb.XGBRegressor(objective=\"reg:linear\", random_state=42)\n",
    "xgb_model = xgb.XGBClassifier(objective=\"binary:logistic\", random_state=42)\n",
    "\n",
    "xgb_model.fit(x, y)\n",
    "\n",
    "y_pred = xgb_model.predict(x)\n",
    "\n",
    "y_test_pred = xgb_model.predict(x_test)\n",
    "\n",
    "mse=mean_squared_error(y, y_pred)\n",
    "\n",
    "mse2=mean_squared_error(y_test, y_test_pred)\n",
    "\n",
    "print(np.sqrt(mse))\n",
    "print(np.sqrt(mse2))\n",
    "\n",
    "print(confusion_matrix(y, y_pred))\n"
   ]
  },
  {
   "cell_type": "code",
   "execution_count": null,
   "metadata": {},
   "outputs": [],
   "source": [
    "xgb_model"
   ]
  }
 ],
 "metadata": {
  "kernelspec": {
   "display_name": "Python 3.9.12 ('base')",
   "language": "python",
   "name": "python3"
  },
  "language_info": {
   "codemirror_mode": {
    "name": "ipython",
    "version": 3
   },
   "file_extension": ".py",
   "mimetype": "text/x-python",
   "name": "python",
   "nbconvert_exporter": "python",
   "pygments_lexer": "ipython3",
   "version": "3.9.12"
  },
  "orig_nbformat": 4,
  "vscode": {
   "interpreter": {
    "hash": "6f5583cf1d9466b5c27e75c89cc6b383bed5736d6b16c51c8074d8690011a952"
   }
  }
 },
 "nbformat": 4,
 "nbformat_minor": 2
}
