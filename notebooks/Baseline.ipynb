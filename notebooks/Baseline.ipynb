{
 "cells": [
  {
   "cell_type": "markdown",
   "metadata": {},
   "source": [
    "Import"
   ]
  },
  {
   "cell_type": "code",
   "execution_count": 12,
   "metadata": {},
   "outputs": [],
   "source": [
    "import pandas as pd\n",
    "\n",
    "from sklearn.linear_model import LogisticRegression\n",
    "\n",
    "from sklearn.model_selection import train_test_split"
   ]
  },
  {
   "cell_type": "markdown",
   "metadata": {},
   "source": [
    "Load Dataset"
   ]
  },
  {
   "cell_type": "code",
   "execution_count": 2,
   "metadata": {},
   "outputs": [],
   "source": [
    "df = pd.read_csv('../ift6758/data/extracted/shot_goal_20151007_20210707.csv')\n",
    "\n",
    "df_dropped = df[df['season']!=20192020]"
   ]
  },
  {
   "cell_type": "markdown",
   "metadata": {},
   "source": [
    "Preview the data"
   ]
  },
  {
   "cell_type": "code",
   "execution_count": 7,
   "metadata": {},
   "outputs": [
    {
     "data": {
      "text/html": [
       "<div>\n",
       "<style scoped>\n",
       "    .dataframe tbody tr th:only-of-type {\n",
       "        vertical-align: middle;\n",
       "    }\n",
       "\n",
       "    .dataframe tbody tr th {\n",
       "        vertical-align: top;\n",
       "    }\n",
       "\n",
       "    .dataframe thead th {\n",
       "        text-align: right;\n",
       "    }\n",
       "</style>\n",
       "<table border=\"1\" class=\"dataframe\">\n",
       "  <thead>\n",
       "    <tr style=\"text-align: right;\">\n",
       "      <th></th>\n",
       "      <th>gameId</th>\n",
       "      <th>season</th>\n",
       "      <th>gameType</th>\n",
       "      <th>dateTime</th>\n",
       "      <th>team</th>\n",
       "      <th>eventIdx</th>\n",
       "      <th>event</th>\n",
       "      <th>isGoal</th>\n",
       "      <th>shotType</th>\n",
       "      <th>description</th>\n",
       "      <th>...</th>\n",
       "      <th>prevEvent</th>\n",
       "      <th>prevX</th>\n",
       "      <th>prevY</th>\n",
       "      <th>prevAngleWithGoal</th>\n",
       "      <th>secondsSincePrev</th>\n",
       "      <th>distanceFromPrev</th>\n",
       "      <th>rebound</th>\n",
       "      <th>changeOfAngleFromPrev</th>\n",
       "      <th>speed</th>\n",
       "      <th>speedOfChangeOfAngle</th>\n",
       "    </tr>\n",
       "  </thead>\n",
       "  <tbody>\n",
       "    <tr>\n",
       "      <th>0</th>\n",
       "      <td>2015020001</td>\n",
       "      <td>20152016</td>\n",
       "      <td>R</td>\n",
       "      <td>2015-10-07T23:24:23Z</td>\n",
       "      <td>Toronto Maple Leafs</td>\n",
       "      <td>7</td>\n",
       "      <td>Shot</td>\n",
       "      <td>0.0</td>\n",
       "      <td>Wrist Shot</td>\n",
       "      <td>Brad Boyes Wrist Shot saved by Carey Price</td>\n",
       "      <td>...</td>\n",
       "      <td>Hit</td>\n",
       "      <td>94.0</td>\n",
       "      <td>-34.0</td>\n",
       "      <td>81.634114</td>\n",
       "      <td>11.0</td>\n",
       "      <td>154.275727</td>\n",
       "      <td>False</td>\n",
       "      <td>0.0</td>\n",
       "      <td>14.025066</td>\n",
       "      <td>0.0</td>\n",
       "    </tr>\n",
       "    <tr>\n",
       "      <th>1</th>\n",
       "      <td>2015020001</td>\n",
       "      <td>20152016</td>\n",
       "      <td>R</td>\n",
       "      <td>2015-10-07T23:24:38Z</td>\n",
       "      <td>Toronto Maple Leafs</td>\n",
       "      <td>9</td>\n",
       "      <td>Shot</td>\n",
       "      <td>0.0</td>\n",
       "      <td>Snap Shot</td>\n",
       "      <td>Nazem Kadri Snap Shot saved by Carey Price</td>\n",
       "      <td>...</td>\n",
       "      <td>Giveaway</td>\n",
       "      <td>-37.0</td>\n",
       "      <td>-28.0</td>\n",
       "      <td>12.528808</td>\n",
       "      <td>7.0</td>\n",
       "      <td>50.477718</td>\n",
       "      <td>False</td>\n",
       "      <td>0.0</td>\n",
       "      <td>7.211103</td>\n",
       "      <td>0.0</td>\n",
       "    </tr>\n",
       "  </tbody>\n",
       "</table>\n",
       "<p>2 rows × 36 columns</p>\n",
       "</div>"
      ],
      "text/plain": [
       "       gameId    season gameType              dateTime                 team  \\\n",
       "0  2015020001  20152016        R  2015-10-07T23:24:23Z  Toronto Maple Leafs   \n",
       "1  2015020001  20152016        R  2015-10-07T23:24:38Z  Toronto Maple Leafs   \n",
       "\n",
       "   eventIdx event  isGoal    shotType  \\\n",
       "0         7  Shot     0.0  Wrist Shot   \n",
       "1         9  Shot     0.0   Snap Shot   \n",
       "\n",
       "                                  description  ...  prevEvent prevX prevY  \\\n",
       "0  Brad Boyes Wrist Shot saved by Carey Price  ...        Hit  94.0 -34.0   \n",
       "1  Nazem Kadri Snap Shot saved by Carey Price  ...   Giveaway -37.0 -28.0   \n",
       "\n",
       "   prevAngleWithGoal secondsSincePrev  distanceFromPrev  rebound  \\\n",
       "0          81.634114             11.0        154.275727    False   \n",
       "1          12.528808              7.0         50.477718    False   \n",
       "\n",
       "   changeOfAngleFromPrev      speed  speedOfChangeOfAngle  \n",
       "0                    0.0  14.025066                   0.0  \n",
       "1                    0.0   7.211103                   0.0  \n",
       "\n",
       "[2 rows x 36 columns]"
      ]
     },
     "execution_count": 7,
     "metadata": {},
     "output_type": "execute_result"
    }
   ],
   "source": [
    "df_dropped.head(2)"
   ]
  },
  {
   "cell_type": "code",
   "execution_count": 8,
   "metadata": {},
   "outputs": [
    {
     "data": {
      "text/plain": [
       "Index(['gameId', 'season', 'gameType', 'dateTime', 'team', 'eventIdx', 'event',\n",
       "       'isGoal', 'shotType', 'description', 'period', 'periodType',\n",
       "       'periodTime', 'secondsSinceStart', 'strength', 'emptyNet', 'x', 'y',\n",
       "       'rinkSide', 'distanceToGoal', 'angleWithGoal', 'scorer', 'assist',\n",
       "       'goalie', 'shooter', 'prevSecondsSinceStart', 'prevEvent', 'prevX',\n",
       "       'prevY', 'prevAngleWithGoal', 'secondsSincePrev', 'distanceFromPrev',\n",
       "       'rebound', 'changeOfAngleFromPrev', 'speed', 'speedOfChangeOfAngle'],\n",
       "      dtype='object')"
      ]
     },
     "execution_count": 8,
     "metadata": {},
     "output_type": "execute_result"
    }
   ],
   "source": [
    "df_dropped.columns"
   ]
  },
  {
   "cell_type": "code",
   "execution_count": 10,
   "metadata": {},
   "outputs": [
    {
     "data": {
      "text/html": [
       "<div>\n",
       "<style scoped>\n",
       "    .dataframe tbody tr th:only-of-type {\n",
       "        vertical-align: middle;\n",
       "    }\n",
       "\n",
       "    .dataframe tbody tr th {\n",
       "        vertical-align: top;\n",
       "    }\n",
       "\n",
       "    .dataframe thead th {\n",
       "        text-align: right;\n",
       "    }\n",
       "</style>\n",
       "<table border=\"1\" class=\"dataframe\">\n",
       "  <thead>\n",
       "    <tr style=\"text-align: right;\">\n",
       "      <th></th>\n",
       "      <th>isGoal</th>\n",
       "      <th>distanceToGoal</th>\n",
       "    </tr>\n",
       "  </thead>\n",
       "  <tbody>\n",
       "    <tr>\n",
       "      <th>0</th>\n",
       "      <td>0.0</td>\n",
       "      <td>34.525353</td>\n",
       "    </tr>\n",
       "  </tbody>\n",
       "</table>\n",
       "</div>"
      ],
      "text/plain": [
       "   isGoal  distanceToGoal\n",
       "0     0.0       34.525353"
      ]
     },
     "execution_count": 10,
     "metadata": {},
     "output_type": "execute_result"
    }
   ],
   "source": [
    "df_filtered = df_dropped[['isGoal', 'distanceToGoal']]\n",
    "df_filtered.head(1)"
   ]
  },
  {
   "cell_type": "markdown",
   "metadata": {},
   "source": [
    "Split Train & Validation Dataset"
   ]
  },
  {
   "cell_type": "code",
   "execution_count": 15,
   "metadata": {},
   "outputs": [
    {
     "name": "stdout",
     "output_type": "stream",
     "text": [
      "(256019, 2)\n",
      "(126100, 2)\n"
     ]
    }
   ],
   "source": [
    "train, test = train_test_split(df_filtered, test_size=0.33, random_state=42)\n",
    "print(train.shape)\n",
    "print(test.shape)"
   ]
  },
  {
   "cell_type": "code",
   "execution_count": 25,
   "metadata": {},
   "outputs": [],
   "source": [
    "x = train['distanceToGoal'].to_numpy().reshape(-1, 1)\n",
    "\n",
    "y = train['isGoal'].to_numpy()\n",
    "\n",
    "x_test = test['distanceToGoal'].to_numpy().reshape(-1, 1)\n",
    "\n",
    "y_test = test['isGoal'].to_numpy()"
   ]
  },
  {
   "cell_type": "markdown",
   "metadata": {},
   "source": [
    "3.1 Create Logistic Regression Model"
   ]
  },
  {
   "cell_type": "code",
   "execution_count": 26,
   "metadata": {},
   "outputs": [
    {
     "data": {
      "text/plain": [
       "0.9061934972244251"
      ]
     },
     "execution_count": 26,
     "metadata": {},
     "output_type": "execute_result"
    }
   ],
   "source": [
    "# instanciate a logistic regression model\n",
    "clf = LogisticRegression()\n",
    "\n",
    "# train model\n",
    "clf.fit(x, y)\n",
    "\n",
    "# score model\n",
    "clf.score(x_test, y_test)"
   ]
  },
  {
   "cell_type": "markdown",
   "metadata": {},
   "source": [
    "3.2"
   ]
  },
  {
   "cell_type": "code",
   "execution_count": null,
   "metadata": {},
   "outputs": [],
   "source": []
  }
 ],
 "metadata": {
  "kernelspec": {
   "display_name": "Python 3.9.12 ('base')",
   "language": "python",
   "name": "python3"
  },
  "language_info": {
   "codemirror_mode": {
    "name": "ipython",
    "version": 3
   },
   "file_extension": ".py",
   "mimetype": "text/x-python",
   "name": "python",
   "nbconvert_exporter": "python",
   "pygments_lexer": "ipython3",
   "version": "3.9.12"
  },
  "orig_nbformat": 4,
  "vscode": {
   "interpreter": {
    "hash": "6f5583cf1d9466b5c27e75c89cc6b383bed5736d6b16c51c8074d8690011a952"
   }
  }
 },
 "nbformat": 4,
 "nbformat_minor": 2
}
