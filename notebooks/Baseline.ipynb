{
 "cells": [
  {
   "cell_type": "markdown",
   "metadata": {},
   "source": [
    "Import"
   ]
  },
  {
   "cell_type": "code",
   "execution_count": 1,
   "metadata": {},
   "outputs": [],
   "source": [
    "import pandas as pd\n",
    "import numpy as np\n",
    "import matplotlib.pyplot as plt\n",
    "import sklearn.metrics as metrics\n",
    "\n",
    "from sklearn.linear_model import LogisticRegression\n",
    "from sklearn.model_selection import train_test_split\n",
    "from sklearn.calibration import calibration_curve, CalibrationDisplay\n",
    "\n",
    "from sklearn.metrics import roc_curve, auc\n",
    "from sklearn.metrics import f1_score\n",
    "from sklearn.metrics import confusion_matrix\n",
    "from sklearn.metrics import plot_confusion_matrix\n",
    "\n",
    "import matplotlib.ticker as mtick\n",
    "\n"
   ]
  },
  {
   "cell_type": "markdown",
   "metadata": {},
   "source": [
    "Load Dataset"
   ]
  },
  {
   "cell_type": "code",
   "execution_count": 2,
   "metadata": {},
   "outputs": [],
   "source": [
    "df = pd.read_csv('../ift6758/data/extracted/shot_goal_20151007_20210707.csv')\n",
    "\n",
    "df_dropped = df[(df['season'].isin([20152016, 20162017, 20172018, 20182019])) & (df['gameType'] == 'R') & (\n",
    "            df['periodType'] != 'SHOOTOUT')]"
   ]
  },
  {
   "cell_type": "markdown",
   "metadata": {},
   "source": [
    "Preview the data"
   ]
  },
  {
   "cell_type": "code",
   "execution_count": 3,
   "metadata": {},
   "outputs": [
    {
     "data": {
      "text/html": [
       "<div>\n",
       "<style scoped>\n",
       "    .dataframe tbody tr th:only-of-type {\n",
       "        vertical-align: middle;\n",
       "    }\n",
       "\n",
       "    .dataframe tbody tr th {\n",
       "        vertical-align: top;\n",
       "    }\n",
       "\n",
       "    .dataframe thead th {\n",
       "        text-align: right;\n",
       "    }\n",
       "</style>\n",
       "<table border=\"1\" class=\"dataframe\">\n",
       "  <thead>\n",
       "    <tr style=\"text-align: right;\">\n",
       "      <th></th>\n",
       "      <th>gameId</th>\n",
       "      <th>season</th>\n",
       "      <th>gameType</th>\n",
       "      <th>dateTime</th>\n",
       "      <th>team</th>\n",
       "      <th>eventIdx</th>\n",
       "      <th>event</th>\n",
       "      <th>isGoal</th>\n",
       "      <th>shotType</th>\n",
       "      <th>description</th>\n",
       "      <th>...</th>\n",
       "      <th>prevEvent</th>\n",
       "      <th>prevX</th>\n",
       "      <th>prevY</th>\n",
       "      <th>prevAngleWithGoal</th>\n",
       "      <th>secondsSincePrev</th>\n",
       "      <th>distanceFromPrev</th>\n",
       "      <th>rebound</th>\n",
       "      <th>changeOfAngleFromPrev</th>\n",
       "      <th>speed</th>\n",
       "      <th>speedOfChangeOfAngle</th>\n",
       "    </tr>\n",
       "  </thead>\n",
       "  <tbody>\n",
       "    <tr>\n",
       "      <th>0</th>\n",
       "      <td>2015020001</td>\n",
       "      <td>20152016</td>\n",
       "      <td>R</td>\n",
       "      <td>2015-10-07T23:24:23Z</td>\n",
       "      <td>Toronto Maple Leafs</td>\n",
       "      <td>7</td>\n",
       "      <td>Shot</td>\n",
       "      <td>0.0</td>\n",
       "      <td>Wrist Shot</td>\n",
       "      <td>Brad Boyes Wrist Shot saved by Carey Price</td>\n",
       "      <td>...</td>\n",
       "      <td>Hit</td>\n",
       "      <td>94.0</td>\n",
       "      <td>-34.0</td>\n",
       "      <td>81.634114</td>\n",
       "      <td>11.0</td>\n",
       "      <td>154.275727</td>\n",
       "      <td>False</td>\n",
       "      <td>0.0</td>\n",
       "      <td>14.025066</td>\n",
       "      <td>0.0</td>\n",
       "    </tr>\n",
       "    <tr>\n",
       "      <th>1</th>\n",
       "      <td>2015020001</td>\n",
       "      <td>20152016</td>\n",
       "      <td>R</td>\n",
       "      <td>2015-10-07T23:24:38Z</td>\n",
       "      <td>Toronto Maple Leafs</td>\n",
       "      <td>9</td>\n",
       "      <td>Shot</td>\n",
       "      <td>0.0</td>\n",
       "      <td>Snap Shot</td>\n",
       "      <td>Nazem Kadri Snap Shot saved by Carey Price</td>\n",
       "      <td>...</td>\n",
       "      <td>Giveaway</td>\n",
       "      <td>-37.0</td>\n",
       "      <td>-28.0</td>\n",
       "      <td>12.528808</td>\n",
       "      <td>7.0</td>\n",
       "      <td>50.477718</td>\n",
       "      <td>False</td>\n",
       "      <td>0.0</td>\n",
       "      <td>7.211103</td>\n",
       "      <td>0.0</td>\n",
       "    </tr>\n",
       "  </tbody>\n",
       "</table>\n",
       "<p>2 rows × 36 columns</p>\n",
       "</div>"
      ],
      "text/plain": [
       "       gameId    season gameType              dateTime                 team  \\\n",
       "0  2015020001  20152016        R  2015-10-07T23:24:23Z  Toronto Maple Leafs   \n",
       "1  2015020001  20152016        R  2015-10-07T23:24:38Z  Toronto Maple Leafs   \n",
       "\n",
       "   eventIdx event  isGoal    shotType  \\\n",
       "0         7  Shot     0.0  Wrist Shot   \n",
       "1         9  Shot     0.0   Snap Shot   \n",
       "\n",
       "                                  description  ...  prevEvent prevX prevY  \\\n",
       "0  Brad Boyes Wrist Shot saved by Carey Price  ...        Hit  94.0 -34.0   \n",
       "1  Nazem Kadri Snap Shot saved by Carey Price  ...   Giveaway -37.0 -28.0   \n",
       "\n",
       "   prevAngleWithGoal secondsSincePrev  distanceFromPrev  rebound  \\\n",
       "0          81.634114             11.0        154.275727    False   \n",
       "1          12.528808              7.0         50.477718    False   \n",
       "\n",
       "   changeOfAngleFromPrev      speed  speedOfChangeOfAngle  \n",
       "0                    0.0  14.025066                   0.0  \n",
       "1                    0.0   7.211103                   0.0  \n",
       "\n",
       "[2 rows x 36 columns]"
      ]
     },
     "execution_count": 3,
     "metadata": {},
     "output_type": "execute_result"
    }
   ],
   "source": [
    "df_dropped.head(2)"
   ]
  },
  {
   "cell_type": "code",
   "execution_count": 4,
   "metadata": {},
   "outputs": [
    {
     "data": {
      "text/plain": [
       "Index(['gameId', 'season', 'gameType', 'dateTime', 'team', 'eventIdx', 'event',\n",
       "       'isGoal', 'shotType', 'description', 'period', 'periodType',\n",
       "       'periodTime', 'secondsSinceStart', 'strength', 'emptyNet', 'x', 'y',\n",
       "       'rinkSide', 'distanceToGoal', 'angleWithGoal', 'scorer', 'assist',\n",
       "       'goalie', 'shooter', 'prevSecondsSinceStart', 'prevEvent', 'prevX',\n",
       "       'prevY', 'prevAngleWithGoal', 'secondsSincePrev', 'distanceFromPrev',\n",
       "       'rebound', 'changeOfAngleFromPrev', 'speed', 'speedOfChangeOfAngle'],\n",
       "      dtype='object')"
      ]
     },
     "execution_count": 4,
     "metadata": {},
     "output_type": "execute_result"
    }
   ],
   "source": [
    "df_dropped.columns"
   ]
  },
  {
   "cell_type": "code",
   "execution_count": 6,
   "metadata": {},
   "outputs": [
    {
     "data": {
      "text/html": [
       "<div>\n",
       "<style scoped>\n",
       "    .dataframe tbody tr th:only-of-type {\n",
       "        vertical-align: middle;\n",
       "    }\n",
       "\n",
       "    .dataframe tbody tr th {\n",
       "        vertical-align: top;\n",
       "    }\n",
       "\n",
       "    .dataframe thead th {\n",
       "        text-align: right;\n",
       "    }\n",
       "</style>\n",
       "<table border=\"1\" class=\"dataframe\">\n",
       "  <thead>\n",
       "    <tr style=\"text-align: right;\">\n",
       "      <th></th>\n",
       "      <th>isGoal</th>\n",
       "      <th>distanceToGoal</th>\n",
       "    </tr>\n",
       "  </thead>\n",
       "  <tbody>\n",
       "    <tr>\n",
       "      <th>0</th>\n",
       "      <td>0.0</td>\n",
       "      <td>34.525353</td>\n",
       "    </tr>\n",
       "  </tbody>\n",
       "</table>\n",
       "</div>"
      ],
      "text/plain": [
       "   isGoal  distanceToGoal\n",
       "0     0.0       34.525353"
      ]
     },
     "execution_count": 6,
     "metadata": {},
     "output_type": "execute_result"
    }
   ],
   "source": [
    "df_filtered = df_dropped[['isGoal', 'distanceToGoal']]\n",
    "df_filtered.head(1)"
   ]
  },
  {
   "cell_type": "markdown",
   "metadata": {},
   "source": [
    "Split Train & Validation Dataset"
   ]
  },
  {
   "cell_type": "code",
   "execution_count": 7,
   "metadata": {},
   "outputs": [
    {
     "name": "stdout",
     "output_type": "stream",
     "text": [
      "(203357, 2)\n",
      "(100161, 2)\n"
     ]
    }
   ],
   "source": [
    "train, test = train_test_split(df_filtered, test_size=0.33, random_state=42)\n",
    "print(train.shape)\n",
    "print(test.shape)"
   ]
  },
  {
   "cell_type": "code",
   "execution_count": 109,
   "metadata": {},
   "outputs": [],
   "source": [
    "x = train['distanceToGoal'].to_numpy().reshape(-1, 1)\n",
    "\n",
    "y = train['isGoal'].to_numpy()\n",
    "\n",
    "x_test = test['distanceToGoal'].to_numpy().reshape(-1, 1)\n",
    "\n",
    "y_test = test['isGoal'].to_numpy()"
   ]
  },
  {
   "cell_type": "markdown",
   "metadata": {},
   "source": [
    "3.1 Create Logistic Regression Model"
   ]
  },
  {
   "cell_type": "code",
   "execution_count": 42,
   "metadata": {},
   "outputs": [
    {
     "data": {
      "text/plain": [
       "0.907259312506864"
      ]
     },
     "execution_count": 42,
     "metadata": {},
     "output_type": "execute_result"
    }
   ],
   "source": [
    "# instanciate a logistic regression model\n",
    "clf = LogisticRegression()\n",
    "\n",
    "# train model\n",
    "clf.fit(x, y)\n",
    "\n",
    "# score model\n",
    "clf.score(x_test, y_test)"
   ]
  },
  {
   "cell_type": "markdown",
   "metadata": {},
   "source": [
    "3.2"
   ]
  },
  {
   "cell_type": "markdown",
   "metadata": {},
   "source": [
    "Compute ROC and AUC"
   ]
  },
  {
   "cell_type": "code",
   "execution_count": 37,
   "metadata": {},
   "outputs": [],
   "source": [
    "y_score = clf.predict_proba(x_test)\n",
    "int_pred = clf.predict(x_test)\n",
    "preds = y_score[:, 1]\n",
    "fpr, tpr, threshold = metrics.roc_curve(y_test, preds)\n",
    "roc_auc = metrics.auc(fpr, tpr)\n"
   ]
  },
  {
   "cell_type": "code",
   "execution_count": 58,
   "metadata": {},
   "outputs": [
    {
     "name": "stderr",
     "output_type": "stream",
     "text": [
      "c:\\Anaconda\\lib\\site-packages\\sklearn\\utils\\deprecation.py:87: FutureWarning: Function plot_confusion_matrix is deprecated; Function `plot_confusion_matrix` is deprecated in 1.0 and will be removed in 1.2. Use one of the class methods: ConfusionMatrixDisplay.from_predictions or ConfusionMatrixDisplay.from_estimator.\n",
      "  warnings.warn(msg, category=FutureWarning)\n"
     ]
    },
    {
     "data": {
      "image/png": "[encoded data removed]",
      "text/plain": [
       "<Figure size 432x288 with 2 Axes>"
      ]
     },
     "metadata": {
      "needs_background": "light"
     },
     "output_type": "display_data"
    }
   ],
   "source": [
    "#DEBUG, REMOVE THIS DURING PRODUCTION\n",
    "def create_confusion_matrix(y_test, y_pred, x_test, clf):\n",
    "    confusion_matrix(y_test, int_pred)\n",
    "    plot_confusion_matrix(clf, x_test, y_test, cmap=plt.cm.Blues)\n",
    "    plt.show()\n",
    "\n",
    "\n",
    "f1_score(y_test, int_pred, average='weighted')\n",
    "\n",
    "create_confusion_matrix(y_test, int_pred, x_test, clf)"
   ]
  },
  {
   "cell_type": "code",
   "execution_count": 99,
   "metadata": {},
   "outputs": [
    {
     "name": "stdout",
     "output_type": "stream",
     "text": [
      "9289.0\n",
      "100161\n",
      "0.0\n",
      "100161\n",
      "9.274068749313605\n"
     ]
    }
   ],
   "source": [
    "#DEBUG, REMOVE THIS DURING PRODUCTION\n",
    "print(np.sum(y_test))\n",
    "print(len(y_test))\n",
    "print(np.sum(int_pred))\n",
    "print(len(int_pred))\n",
    "\n",
    "print(np.sum(y_test)/len(y_test)*100)"
   ]
  },
  {
   "cell_type": "code",
   "execution_count": 38,
   "metadata": {},
   "outputs": [
    {
     "data": {
      "image/png": "[encoded data removed]",
      "text/plain": [
       "<Figure size 432x288 with 1 Axes>"
      ]
     },
     "metadata": {
      "needs_background": "light"
     },
     "output_type": "display_data"
    }
   ],
   "source": [
    "plt.title('Receiver Operating Characteristic')\n",
    "plt.plot(fpr, tpr, 'b', label='AUC = %0.2f' % roc_auc)\n",
    "plt.legend(loc='lower right')\n",
    "plt.plot([0, 1], [0, 1], 'r--')\n",
    "plt.xlim([0, 1])\n",
    "plt.ylim([0, 1])\n",
    "plt.ylabel('True Positive Rate')\n",
    "plt.xlabel('False Positive Rate')\n",
    "plt.show()"
   ]
  },
  {
   "cell_type": "markdown",
   "metadata": {},
   "source": [
    "Goal Rate"
   ]
  },
  {
   "cell_type": "code",
   "execution_count": 14,
   "metadata": {},
   "outputs": [],
   "source": [
    "# utility function\n",
    "def split(a, n):\n",
    "    k, m = divmod(len(a), n)\n",
    "    return (a[i*k+min(i, m):(i+1)*k+min(i+1, m)] for i in range(n))"
   ]
  },
  {
   "cell_type": "code",
   "execution_count": 112,
   "metadata": {},
   "outputs": [],
   "source": [
    "x_test_s, y_test_s = zip(*sorted(zip(x_test, y_test)))"
   ]
  },
  {
   "cell_type": "code",
   "execution_count": 160,
   "metadata": {},
   "outputs": [],
   "source": [
    "def prepare_goal_rate(y_array):\n",
    "    x_test_sorted = x_test.copy()\n",
    "    x_test_sorted.sort()\n",
    "    res = split(y_array, 101)\n",
    "    built_array = []\n",
    "    index_array = []\n",
    "    counter = 100\n",
    "    total_goal = 0\n",
    "    goal_array = []\n",
    "    for i in res:\n",
    "        sub_len = len(i)\n",
    "        sub_res  = i\n",
    "        sub_res_np = np.array(sub_res)\n",
    "        goals = np.count_nonzero(sub_res_np)\n",
    "        shots = sub_res_np.size - np.count_nonzero(sub_res_np)\n",
    "        sub_final = goals / (shots - goals)\n",
    "        goal_array.append(goals)\n",
    "        total_goal = total_goal + goals\n",
    "        built_array.append(sub_final*100)\n",
    "\n",
    "        index_array.append(counter)\n",
    "        counter = counter - 1\n",
    "    \n",
    "    return built_array, index_array, goal_array, total_goal\n",
    "\n",
    "built_array, index_array, goal_array, total_goal = prepare_goal_rate(y_test_s)"
   ]
  },
  {
   "cell_type": "code",
   "execution_count": 161,
   "metadata": {},
   "outputs": [
    {
     "data": {
      "image/png": "[encoded data removed]",
      "text/plain": [
       "<Figure size 432x288 with 1 Axes>"
      ]
     },
     "metadata": {
      "needs_background": "light"
     },
     "output_type": "display_data"
    }
   ],
   "source": [
    "def create_goal_rate_plot(index_array, built_array):\n",
    "    fig, ax = plt.subplots()\n",
    "    ax.plot(index_array, built_array, color=\"blue\", linewidth=2.5)\n",
    "    plt.xticks(np.arange(min(index_array), max(index_array)+1, 10.0))\n",
    "    plt.yticks(np.arange(0, 110, 10.0))\n",
    "    ax.yaxis.set_major_formatter(mtick.PercentFormatter())\n",
    "    ax.invert_xaxis()\n",
    "    ax.legend(['Baseline'])\n",
    "    plt.title(\"Goal Rate\")\n",
    "    plt.xlabel('Shot probability model percentile', fontsize=12)\n",
    "    plt.ylabel('Goals / (Shots + Goals)', fontsize=12)\n",
    "    plt.show()\n",
    "\n",
    "create_goal_rate_plot(index_array, built_array)"
   ]
  },
  {
   "cell_type": "markdown",
   "metadata": {},
   "source": [
    "Cumulative % of Goals"
   ]
  },
  {
   "cell_type": "code",
   "execution_count": 162,
   "metadata": {},
   "outputs": [],
   "source": [
    "def compute_cumulative(goal_array, total_goal):\n",
    "    cumulative_array = []\n",
    "    last_elem = 0\n",
    "    for i in goal_array:\n",
    "        if total_goal != 0:\n",
    "            current = i / total_goal*100 + last_elem\n",
    "        else:\n",
    "            current = last_elem\n",
    "        cumulative_array.append(current)\n",
    "        \n",
    "        last_elem = current\n",
    "    return cumulative_array\n",
    "\n",
    "cumulative_array = compute_cumulative(goal_array, total_goal)"
   ]
  },
  {
   "cell_type": "code",
   "execution_count": 163,
   "metadata": {},
   "outputs": [
    {
     "data": {
      "image/png": "[encoded data removed]",
      "text/plain": [
       "<Figure size 432x288 with 1 Axes>"
      ]
     },
     "metadata": {
      "needs_background": "light"
     },
     "output_type": "display_data"
    }
   ],
   "source": [
    "def create_cumulative_plot(index_array, cumulative_array):\n",
    "    fig, ax = plt.subplots()\n",
    "    ax.plot(index_array, cumulative_array, color=\"blue\", linewidth=2.5)\n",
    "    plt.xticks(np.arange(min(index_array), max(index_array)+1, 10.0))\n",
    "    plt.yticks(np.arange(0, 110, 10.0))\n",
    "    ax.yaxis.set_major_formatter(mtick.PercentFormatter())\n",
    "    ax.invert_xaxis()\n",
    "    ax.legend(['Baseline'])\n",
    "    plt.title(\"Cumulative % of goal\")\n",
    "    plt.xlabel('Shot probability model percentile', fontsize=12)\n",
    "    plt.ylabel('Proportion', fontsize=12)\n",
    "    plt.show()\n",
    "\n",
    "create_cumulative_plot(index_array, cumulative_array)"
   ]
  },
  {
   "cell_type": "markdown",
   "metadata": {},
   "source": [
    "Calibration"
   ]
  },
  {
   "cell_type": "code",
   "execution_count": 47,
   "metadata": {},
   "outputs": [
    {
     "data": {
      "text/plain": [
       "<sklearn.calibration.CalibrationDisplay at 0x2de2feaedc0>"
      ]
     },
     "execution_count": 47,
     "metadata": {},
     "output_type": "execute_result"
    },
    {
     "data": {
      "image/png": "[encoded data removed]",
      "text/plain": [
       "<Figure size 432x288 with 1 Axes>"
      ]
     },
     "metadata": {
      "needs_background": "light"
     },
     "output_type": "display_data"
    }
   ],
   "source": [
    "prob_true, prob_pred = calibration_curve(y_test, preds, n_bins=10)\n",
    "disp = CalibrationDisplay(prob_true, prob_pred, preds)\n",
    "disp.plot()"
   ]
  },
  {
   "cell_type": "code",
   "execution_count": 48,
   "metadata": {},
   "outputs": [
    {
     "data": {
      "image/png": "[encoded data removed]",
      "text/plain": [
       "<Figure size 432x288 with 1 Axes>"
      ]
     },
     "metadata": {
      "needs_background": "light"
     },
     "output_type": "display_data"
    }
   ],
   "source": [
    "disp = CalibrationDisplay.from_predictions(y_test, preds)\n",
    "plt.show()"
   ]
  },
  {
   "cell_type": "code",
   "execution_count": 49,
   "metadata": {},
   "outputs": [
    {
     "data": {
      "image/png": "[encoded data removed]",
      "text/plain": [
       "<Figure size 432x288 with 1 Axes>"
      ]
     },
     "metadata": {
      "needs_background": "light"
     },
     "output_type": "display_data"
    }
   ],
   "source": [
    "disp = CalibrationDisplay.from_estimator(clf, x_test, y_test)\n",
    "plt.show()"
   ]
  },
  {
   "cell_type": "markdown",
   "metadata": {},
   "source": [
    "Modèle 2 : angle "
   ]
  },
  {
   "cell_type": "code",
   "execution_count": 164,
   "metadata": {},
   "outputs": [
    {
     "data": {
      "text/html": [
       "<div>\n",
       "<style scoped>\n",
       "    .dataframe tbody tr th:only-of-type {\n",
       "        vertical-align: middle;\n",
       "    }\n",
       "\n",
       "    .dataframe tbody tr th {\n",
       "        vertical-align: top;\n",
       "    }\n",
       "\n",
       "    .dataframe thead th {\n",
       "        text-align: right;\n",
       "    }\n",
       "</style>\n",
       "<table border=\"1\" class=\"dataframe\">\n",
       "  <thead>\n",
       "    <tr style=\"text-align: right;\">\n",
       "      <th></th>\n",
       "      <th>isGoal</th>\n",
       "      <th>angleWithGoal</th>\n",
       "    </tr>\n",
       "  </thead>\n",
       "  <tbody>\n",
       "    <tr>\n",
       "      <th>0</th>\n",
       "      <td>0.0</td>\n",
       "      <td>10.007980</td>\n",
       "    </tr>\n",
       "    <tr>\n",
       "      <th>1</th>\n",
       "      <td>0.0</td>\n",
       "      <td>0.000000</td>\n",
       "    </tr>\n",
       "    <tr>\n",
       "      <th>2</th>\n",
       "      <td>0.0</td>\n",
       "      <td>4.085617</td>\n",
       "    </tr>\n",
       "    <tr>\n",
       "      <th>3</th>\n",
       "      <td>0.0</td>\n",
       "      <td>46.636577</td>\n",
       "    </tr>\n",
       "    <tr>\n",
       "      <th>4</th>\n",
       "      <td>0.0</td>\n",
       "      <td>2.045408</td>\n",
       "    </tr>\n",
       "  </tbody>\n",
       "</table>\n",
       "</div>"
      ],
      "text/plain": [
       "   isGoal  angleWithGoal\n",
       "0     0.0      10.007980\n",
       "1     0.0       0.000000\n",
       "2     0.0       4.085617\n",
       "3     0.0      46.636577\n",
       "4     0.0       2.045408"
      ]
     },
     "execution_count": 164,
     "metadata": {},
     "output_type": "execute_result"
    }
   ],
   "source": [
    "df_filtered_2 = df_dropped[['isGoal', 'angleWithGoal']]\n",
    "df_filtered_2.head(5)"
   ]
  },
  {
   "cell_type": "code",
   "execution_count": 165,
   "metadata": {},
   "outputs": [
    {
     "name": "stdout",
     "output_type": "stream",
     "text": [
      "0\n",
      "0\n"
     ]
    }
   ],
   "source": [
    "print(df_filtered_2['angleWithGoal'].isnull().sum())\n",
    "print(df_filtered_2['isGoal'].isnull().sum())"
   ]
  },
  {
   "cell_type": "code",
   "execution_count": 166,
   "metadata": {},
   "outputs": [
    {
     "name": "stdout",
     "output_type": "stream",
     "text": [
      "0\n"
     ]
    }
   ],
   "source": [
    "df_filtered_2 = df_filtered_2.dropna(subset=['angleWithGoal'])\n",
    "print(df_filtered_2['angleWithGoal'].isnull().sum())"
   ]
  },
  {
   "cell_type": "code",
   "execution_count": 167,
   "metadata": {},
   "outputs": [
    {
     "name": "stdout",
     "output_type": "stream",
     "text": [
      "(203357, 2)\n",
      "(100161, 2)\n"
     ]
    }
   ],
   "source": [
    "train, test = train_test_split(df_filtered_2, test_size=0.33, random_state=42)\n",
    "print(train.shape)\n",
    "print(test.shape)"
   ]
  },
  {
   "cell_type": "code",
   "execution_count": 168,
   "metadata": {},
   "outputs": [],
   "source": [
    "x1 = train[['angleWithGoal']].to_numpy().reshape(-1, 1)\n",
    "\n",
    "y1 = train['isGoal'].to_numpy()\n",
    "\n",
    "x1_test = test[['angleWithGoal']].to_numpy().reshape(-1, 1)\n",
    "\n",
    "y1_test = test['isGoal'].to_numpy()"
   ]
  },
  {
   "cell_type": "code",
   "execution_count": 169,
   "metadata": {},
   "outputs": [
    {
     "data": {
      "text/plain": [
       "0.907259312506864"
      ]
     },
     "execution_count": 169,
     "metadata": {},
     "output_type": "execute_result"
    }
   ],
   "source": [
    "# instanciate a logistic regression model\n",
    "clf = LogisticRegression()\n",
    "\n",
    "# train model\n",
    "clf.fit(x1, y1)\n",
    "\n",
    "# score model\n",
    "clf.score(x1_test, y1_test)"
   ]
  },
  {
   "cell_type": "code",
   "execution_count": 170,
   "metadata": {},
   "outputs": [
    {
     "data": {
      "image/png": "[encoded data removed]",
      "text/plain": [
       "<Figure size 432x288 with 1 Axes>"
      ]
     },
     "metadata": {
      "needs_background": "light"
     },
     "output_type": "display_data"
    },
    {
     "ename": "ZeroDivisionError",
     "evalue": "division by zero",
     "output_type": "error",
     "traceback": [
      "\u001b[1;31m---------------------------------------------------------------------------\u001b[0m",
      "\u001b[1;31mZeroDivisionError\u001b[0m                         Traceback (most recent call last)",
      "\u001b[1;32mc:\\Users\\Bei Ning\\Documents\\GitHub\\ift6758-a22-g3-projet\\notebooks\\Baseline.ipynb Cell 39\u001b[0m in \u001b[0;36m<cell line: 4>\u001b[1;34m()\u001b[0m\n\u001b[0;32m      <a href='vscode-notebook-cell:/c%3A/Users/Bei%20Ning/Documents/GitHub/ift6758-a22-g3-projet/notebooks/Baseline.ipynb#Y115sZmlsZQ%3D%3D?line=1'>2</a>\u001b[0m built_array, index_array, goal_array, total_goal \u001b[39m=\u001b[39m prepare_goal_rate(y_array)\n\u001b[0;32m      <a href='vscode-notebook-cell:/c%3A/Users/Bei%20Ning/Documents/GitHub/ift6758-a22-g3-projet/notebooks/Baseline.ipynb#Y115sZmlsZQ%3D%3D?line=2'>3</a>\u001b[0m create_goal_rate_plot(index_array, built_array)\n\u001b[1;32m----> <a href='vscode-notebook-cell:/c%3A/Users/Bei%20Ning/Documents/GitHub/ift6758-a22-g3-projet/notebooks/Baseline.ipynb#Y115sZmlsZQ%3D%3D?line=3'>4</a>\u001b[0m cumulative_array \u001b[39m=\u001b[39m compute_cumulative(goal_array, total_goal)\n\u001b[0;32m      <a href='vscode-notebook-cell:/c%3A/Users/Bei%20Ning/Documents/GitHub/ift6758-a22-g3-projet/notebooks/Baseline.ipynb#Y115sZmlsZQ%3D%3D?line=4'>5</a>\u001b[0m create_cumulative_plot(index_array, cumulative_array)\n",
      "\u001b[1;32mc:\\Users\\Bei Ning\\Documents\\GitHub\\ift6758-a22-g3-projet\\notebooks\\Baseline.ipynb Cell 39\u001b[0m in \u001b[0;36mcompute_cumulative\u001b[1;34m(goal_array, total_goal)\u001b[0m\n\u001b[0;32m      <a href='vscode-notebook-cell:/c%3A/Users/Bei%20Ning/Documents/GitHub/ift6758-a22-g3-projet/notebooks/Baseline.ipynb#Y115sZmlsZQ%3D%3D?line=2'>3</a>\u001b[0m last_elem \u001b[39m=\u001b[39m \u001b[39m0\u001b[39m\n\u001b[0;32m      <a href='vscode-notebook-cell:/c%3A/Users/Bei%20Ning/Documents/GitHub/ift6758-a22-g3-projet/notebooks/Baseline.ipynb#Y115sZmlsZQ%3D%3D?line=3'>4</a>\u001b[0m \u001b[39mfor\u001b[39;00m i \u001b[39min\u001b[39;00m goal_array:\n\u001b[1;32m----> <a href='vscode-notebook-cell:/c%3A/Users/Bei%20Ning/Documents/GitHub/ift6758-a22-g3-projet/notebooks/Baseline.ipynb#Y115sZmlsZQ%3D%3D?line=4'>5</a>\u001b[0m     current \u001b[39m=\u001b[39m i \u001b[39m/\u001b[39;49m total_goal\u001b[39m*\u001b[39m\u001b[39m100\u001b[39m \u001b[39m+\u001b[39m last_elem\n\u001b[0;32m      <a href='vscode-notebook-cell:/c%3A/Users/Bei%20Ning/Documents/GitHub/ift6758-a22-g3-projet/notebooks/Baseline.ipynb#Y115sZmlsZQ%3D%3D?line=5'>6</a>\u001b[0m     cumulative_array\u001b[39m.\u001b[39mappend(current)\n\u001b[0;32m      <a href='vscode-notebook-cell:/c%3A/Users/Bei%20Ning/Documents/GitHub/ift6758-a22-g3-projet/notebooks/Baseline.ipynb#Y115sZmlsZQ%3D%3D?line=7'>8</a>\u001b[0m     last_elem \u001b[39m=\u001b[39m current\n",
      "\u001b[1;31mZeroDivisionError\u001b[0m: division by zero"
     ]
    }
   ],
   "source": [
    "y_array = clf.predict(x_test)\n",
    "built_array, index_array, goal_array, total_goal = prepare_goal_rate(y_array)\n",
    "create_goal_rate_plot(index_array, built_array)\n",
    "cumulative_array = compute_cumulative(goal_array, total_goal)\n",
    "create_cumulative_plot(index_array, cumulative_array)"
   ]
  },
  {
   "cell_type": "markdown",
   "metadata": {},
   "source": [
    "Modèle 3 : angle + distance"
   ]
  },
  {
   "cell_type": "code",
   "execution_count": null,
   "metadata": {},
   "outputs": [],
   "source": [
    "df_filtered_3 = df_dropped[['isGoal', 'distanceToGoal', 'angleWithGoal']]\n",
    "df_filtered_3.head(5)"
   ]
  },
  {
   "cell_type": "code",
   "execution_count": null,
   "metadata": {},
   "outputs": [],
   "source": [
    "print(df_filtered_3['angleWithGoal'].isnull().sum())\n",
    "print(df_filtered_3['distanceToGoal'].isnull().sum())\n",
    "print(df_filtered_3['isGoal'].isnull().sum())"
   ]
  },
  {
   "cell_type": "code",
   "execution_count": null,
   "metadata": {},
   "outputs": [],
   "source": [
    "df_filtered_3 = df_filtered_3.dropna(subset=['angleWithGoal'])\n",
    "print(df_filtered_3['angleWithGoal'].isnull().sum())"
   ]
  },
  {
   "cell_type": "code",
   "execution_count": null,
   "metadata": {},
   "outputs": [],
   "source": [
    "train, test = train_test_split(df_filtered_3, test_size=0.33, random_state=42)\n",
    "print(train.shape)\n",
    "print(test.shape)"
   ]
  },
  {
   "cell_type": "code",
   "execution_count": null,
   "metadata": {},
   "outputs": [],
   "source": [
    "x2 = train[['distanceToGoal', 'angleWithGoal']].to_numpy().reshape(-1, 2)\n",
    "\n",
    "y2 = train['isGoal'].to_numpy()\n",
    "\n",
    "x2_test = test[['distanceToGoal', 'angleWithGoal']].to_numpy().reshape(-1, 2)\n",
    "\n",
    "y2_test = test['isGoal'].to_numpy()"
   ]
  },
  {
   "cell_type": "code",
   "execution_count": null,
   "metadata": {},
   "outputs": [],
   "source": [
    "# instanciate a logistic regression model\n",
    "clf = LogisticRegression()\n",
    "\n",
    "# train model\n",
    "clf.fit(x2, y2)\n",
    "\n",
    "# score model\n",
    "clf.score(x2_test, y2_test)"
   ]
  },
  {
   "cell_type": "code",
   "execution_count": null,
   "metadata": {},
   "outputs": [],
   "source": []
  }
 ],
 "metadata": {
  "kernelspec": {
   "display_name": "Python 3.9.12 ('base')",
   "language": "python",
   "name": "python3"
  },
  "language_info": {
   "codemirror_mode": {
    "name": "ipython",
    "version": 3
   },
   "file_extension": ".py",
   "mimetype": "text/x-python",
   "name": "python",
   "nbconvert_exporter": "python",
   "pygments_lexer": "ipython3",
   "version": "3.9.12"
  },
  "orig_nbformat": 4,
  "vscode": {
   "interpreter": {
    "hash": "6f5583cf1d9466b5c27e75c89cc6b383bed5736d6b16c51c8074d8690011a952"
   }
  }
 },
 "nbformat": 4,
 "nbformat_minor": 2
}
